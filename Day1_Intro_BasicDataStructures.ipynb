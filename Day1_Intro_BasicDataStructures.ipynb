{
 "cells": [
  {
   "cell_type": "markdown",
   "metadata": {
    "id": "MVSc1WEPnxqw"
   },
   "source": [
    "# Introduction to Python Programming Notebook\n",
    "\n",
    " * Alisson Hayasi da Costa\n",
    " * Leonardo Utida\n",
    " * Franciele Grego Esteves\n",
    " * Daiane Belgini\n",
    " * Renato Augusto Corrêa dos Santos\n",
    " * Nathalia Graf Grachet\n",
    " * Henrique Frajacomo\n",
    " * Bruna Zamith Santos"
   ]
  },
  {
   "cell_type": "markdown",
   "metadata": {
    "id": "YNtwpITinxqz"
   },
   "source": [
    "# 1. Brief Introduction on Concepts\n",
    "\n",
    "To understand the Python language well, we need to introduce some initial concepts that, even though they are mentioned in a simple way, are indeed complex and requires an in-depth study.\n",
    "\n",
    "### Class\n",
    "- Represents an  _entity_ (physical or logical) in the real world.\n",
    "- In general, it contains features (attributes) and methods to manipulate them.\n",
    "- Defines a general behaviour for a category of objects.\n",
    "    - **Example:** We can create a class named **```Flower```** that has the attributes: petal width and petal length.\n",
    "\n",
    "### Object\n",
    "- Instance of a specific class.\n",
    "- Contains all attributes and methods defined in it's class.\n",
    "    - **Example:** In the **```Flower```** class example above, we can instantiate the object **```orchid```** with petal width of 4cm and petal length of 3cm.\n",
    "    \n",
    "### Method\n",
    "- Procedure or function that performs an operation over the data of the object.\n",
    "     - **Example:** Still using the **```Flower```** class, we can have a method that gets the petal length and width and calculates it's area.\n",
    "     \n",
    "\n",
    "### IDENTATION!\n",
    "- Identation in code defines the overall structure of the algorithm.\n",
    "- In Python, it's given by the **```tab```** command.\n",
    "- Identation is a **very important** concept in Python! Therefore, make correct use of identation in your code. Especially after the declaration of conditionals and repetitions (that will still be seem here).\n",
    "\n",
    "## Python and Data\n",
    "- In Python, all types of data (primitives or not) and data structures are objects of a class.\n",
    "- Roughly, we can say that the **class** of an object is it's **type**.\n",
    "- The **type** defines the nature of the data."
   ]
  },
  {
   "cell_type": "markdown",
   "metadata": {
    "id": "tGeX8JLInxq2"
   },
   "source": [
    "# 2. Variables\n",
    "\n",
    "**Variables** are memory spaces capable of storing **data** that have specific **types**, for example: integer numbers, real numbers or text (**```string```**).\n",
    "\n",
    "The declaration (and it's initialization) of a variable occurs when the name is declared followed by a value attribution, supported by the operator `=`.\n",
    "\n",
    "Just like this: `<variable_name> = <value>`"
   ]
  },
  {
   "cell_type": "code",
   "execution_count": null,
   "metadata": {
    "id": "ujl8Xahlnxq4"
   },
   "outputs": [],
   "source": [
    "i = 2018\n",
    "a = 3"
   ]
  },
  {
   "cell_type": "code",
   "execution_count": null,
   "metadata": {
    "colab": {
     "base_uri": "https://localhost:8080/",
     "height": 35
    },
    "executionInfo": {
     "elapsed": 866,
     "status": "ok",
     "timestamp": 1599569506212,
     "user": {
      "displayName": "Henrique Frajacomo",
      "photoUrl": "https://lh3.googleusercontent.com/a-/AOh14GhQDFNhG11h9UJPe8Eg-KqmHhIL8k9af1i9FNc=s64",
      "userId": "15794806591433679473"
     },
     "user_tz": 180
    },
    "id": "R2iWsnNSnxrH",
    "outputId": "10866f2d-1688-42cc-a89e-90a7a855c142"
   },
   "outputs": [
    {
     "data": {
      "text/plain": [
       "2018"
      ]
     },
     "execution_count": 2,
     "metadata": {
      "tags": []
     },
     "output_type": "execute_result"
    }
   ],
   "source": [
    "i"
   ]
  },
  {
   "cell_type": "markdown",
   "metadata": {
    "id": "hchcTksrnxrR"
   },
   "source": [
    "The data types in Python are diverse, and can be divided into **primitive types** (basic types) and **more complex data structures**.\n",
    "\n",
    "Starting with the **primitive types** we have:\n",
    "\n",
    "| Type    | Value                                       | Description                                            |\n",
    "|---------|---------------------------------------------|------------------------------------------------------|\n",
    "| int     | integer number                              | Positive or negative discrete numbers   |\n",
    "| float   | real number / floating point number     | Decimal numbers           |\n",
    "| string  | text                                       | Set of characters that expresses textual information |\n",
    "| complex | complex number                             | Complex numbers of the form $x+j$                     |\n",
    "| boolean | True/False                                  | Boolean values               |\n",
    "| null    | None                                        | null value                                           |\n",
    "\n",
    "\n",
    "Every **data type** has a domain of value that it can store and operations associated to it's type. "
   ]
  },
  {
   "cell_type": "code",
   "execution_count": null,
   "metadata": {
    "id": "qtYvt3wynxrT"
   },
   "outputs": [],
   "source": [
    "i = 2018\n",
    "f = 3.14\n",
    "s = \"Biology!\"\n",
    "c = 3+4j\n",
    "b = True\n",
    "n = None"
   ]
  },
  {
   "cell_type": "code",
   "execution_count": null,
   "metadata": {
    "id": "xaeFxrjxnxrZ"
   },
   "outputs": [],
   "source": [
    "n"
   ]
  },
  {
   "cell_type": "code",
   "execution_count": null,
   "metadata": {
    "colab": {
     "base_uri": "https://localhost:8080/",
     "height": 35
    },
    "executionInfo": {
     "elapsed": 1111,
     "status": "ok",
     "timestamp": 1599569818392,
     "user": {
      "displayName": "Henrique Frajacomo",
      "photoUrl": "https://lh3.googleusercontent.com/a-/AOh14GhQDFNhG11h9UJPe8Eg-KqmHhIL8k9af1i9FNc=s64",
      "userId": "15794806591433679473"
     },
     "user_tz": 180
    },
    "id": "2uJL1-Afnxrh",
    "outputId": "70c7f358-3152-46e6-c233-91975ff40a54",
    "scrolled": true
   },
   "outputs": [
    {
     "data": {
      "application/vnd.google.colaboratory.intrinsic+json": {
       "type": "string"
      },
      "text/plain": [
       "'Biology!'"
      ]
     },
     "execution_count": 5,
     "metadata": {
      "tags": []
     },
     "output_type": "execute_result"
    }
   ],
   "source": [
    "s"
   ]
  },
  {
   "cell_type": "markdown",
   "metadata": {
    "id": "BbclbVs9nxrp"
   },
   "source": [
    "When attributing a value to a variable (with a certain **type**), this variable receives the **type** of the attribution."
   ]
  },
  {
   "cell_type": "code",
   "execution_count": null,
   "metadata": {
    "colab": {
     "base_uri": "https://localhost:8080/",
     "height": 68
    },
    "executionInfo": {
     "elapsed": 1386,
     "status": "ok",
     "timestamp": 1599569957338,
     "user": {
      "displayName": "Henrique Frajacomo",
      "photoUrl": "https://lh3.googleusercontent.com/a-/AOh14GhQDFNhG11h9UJPe8Eg-KqmHhIL8k9af1i9FNc=s64",
      "userId": "15794806591433679473"
     },
     "user_tz": 180
    },
    "id": "Z9KwYMzonxrr",
    "outputId": "558b819d-af9c-4de5-8e5f-a62a27bab606"
   },
   "outputs": [
    {
     "name": "stdout",
     "output_type": "stream",
     "text": [
      "<class 'bool'>\n",
      "<class 'int'>\n",
      "<class 'float'>\n"
     ]
    }
   ],
   "source": [
    "a=True\n",
    "print(type(a))\n",
    "b = 2018\n",
    "print(type(b))\n",
    "c = 3.14\n",
    "print(type(c))"
   ]
  },
  {
   "cell_type": "markdown",
   "metadata": {
    "id": "dtoY-ha3nxrx"
   },
   "source": [
    "It's important to remember that the attribution of a value to a variable in a given part of the code overwrites the attribution that was made previously."
   ]
  },
  {
   "cell_type": "code",
   "execution_count": null,
   "metadata": {
    "colab": {
     "base_uri": "https://localhost:8080/",
     "height": 119
    },
    "executionInfo": {
     "elapsed": 863,
     "status": "ok",
     "timestamp": 1599571063738,
     "user": {
      "displayName": "Henrique Frajacomo",
      "photoUrl": "https://lh3.googleusercontent.com/a-/AOh14GhQDFNhG11h9UJPe8Eg-KqmHhIL8k9af1i9FNc=s64",
      "userId": "15794806591433679473"
     },
     "user_tz": 180
    },
    "id": "kpZbJiaHnxrz",
    "outputId": "027dbc1b-0ddb-4285-9b7a-0d48624edd23",
    "scrolled": true
   },
   "outputs": [
    {
     "name": "stdout",
     "output_type": "stream",
     "text": [
      "2018\n",
      "<class 'int'>\n",
      "Sobrescreve como string\n",
      "<class 'str'>\n",
      "3.14\n",
      "<class 'float'>\n"
     ]
    }
   ],
   "source": [
    "b = 2018\n",
    "print(b)\n",
    "print(type(b))\n",
    "b = \"Overwrite as string\"\n",
    "print(b)\n",
    "print(type(b))\n",
    "b = 3.14\n",
    "print(b)\n",
    "print(type(b))"
   ]
  },
  {
   "cell_type": "markdown",
   "metadata": {
    "id": "otQDF70Unxr4"
   },
   "source": [
    "It's also important to notice the difference of definition between integers and real numbers. Even though there's a `zero (0)` in the decimals, it's type is still considered float:"
   ]
  },
  {
   "cell_type": "code",
   "execution_count": null,
   "metadata": {
    "id": "HfqSGRzsnxr5"
   },
   "outputs": [],
   "source": [
    "c = 3.0"
   ]
  },
  {
   "cell_type": "code",
   "execution_count": null,
   "metadata": {
    "colab": {
     "base_uri": "https://localhost:8080/",
     "height": 34
    },
    "executionInfo": {
     "elapsed": 831,
     "status": "ok",
     "timestamp": 1599571272720,
     "user": {
      "displayName": "Henrique Frajacomo",
      "photoUrl": "https://lh3.googleusercontent.com/a-/AOh14GhQDFNhG11h9UJPe8Eg-KqmHhIL8k9af1i9FNc=s64",
      "userId": "15794806591433679473"
     },
     "user_tz": 180
    },
    "id": "M19MS20PnxsA",
    "outputId": "c2b3ccc7-5143-4940-eb30-4cdc85bced31"
   },
   "outputs": [
    {
     "name": "stdout",
     "output_type": "stream",
     "text": [
      "<class 'float'>\n"
     ]
    }
   ],
   "source": [
    "print(type(c))"
   ]
  },
  {
   "cell_type": "code",
   "execution_count": null,
   "metadata": {
    "id": "Fdpf0V1LnxsG"
   },
   "outputs": [],
   "source": [
    "c = 3"
   ]
  },
  {
   "cell_type": "code",
   "execution_count": null,
   "metadata": {
    "colab": {
     "base_uri": "https://localhost:8080/",
     "height": 34
    },
    "executionInfo": {
     "elapsed": 1082,
     "status": "ok",
     "timestamp": 1599571281157,
     "user": {
      "displayName": "Henrique Frajacomo",
      "photoUrl": "https://lh3.googleusercontent.com/a-/AOh14GhQDFNhG11h9UJPe8Eg-KqmHhIL8k9af1i9FNc=s64",
      "userId": "15794806591433679473"
     },
     "user_tz": 180
    },
    "id": "iy-K93BUnxsL",
    "outputId": "8a0caf6a-07d9-4a72-a5b9-1475533e91bb"
   },
   "outputs": [
    {
     "name": "stdout",
     "output_type": "stream",
     "text": [
      "<class 'int'>\n"
     ]
    }
   ],
   "source": [
    "print(type(c))"
   ]
  },
  {
   "cell_type": "markdown",
   "metadata": {
    "id": "d_E29EwbnxsV"
   },
   "source": [
    "Also notice that decimals are separated with **periods and not commas**. Also, you don't need to separate the thousands:"
   ]
  },
  {
   "cell_type": "code",
   "execution_count": null,
   "metadata": {
    "colab": {
     "base_uri": "https://localhost:8080/",
     "height": 34
    },
    "executionInfo": {
     "elapsed": 1523,
     "status": "ok",
     "timestamp": 1599571378392,
     "user": {
      "displayName": "Henrique Frajacomo",
      "photoUrl": "https://lh3.googleusercontent.com/a-/AOh14GhQDFNhG11h9UJPe8Eg-KqmHhIL8k9af1i9FNc=s64",
      "userId": "15794806591433679473"
     },
     "user_tz": 180
    },
    "id": "FzwB2cuOnxsW",
    "outputId": "9d8d7329-f5cf-48f4-ff0b-4aae861968af"
   },
   "outputs": [
    {
     "data": {
      "text/plain": [
       "30000000.15"
      ]
     },
     "execution_count": 15,
     "metadata": {
      "tags": []
     },
     "output_type": "execute_result"
    }
   ],
   "source": [
    "30000000.15"
   ]
  },
  {
   "cell_type": "markdown",
   "metadata": {
    "id": "nFakNXnmnxsc"
   },
   "source": [
    "## 2.1 Naming Variables\n",
    "\n",
    "The names of variables and other language concepts should be very suggestive.\n",
    "\n",
    "For that, there are some rules to use. Variables:\n",
    "\n",
    " - Should start with a letter and not a number\n",
    "     - **Example**: ```pi = 3.141592```\n",
    " - Can contain _underscore_ (`_`) and numbers\n",
    "     - **Example**: ```_pi1_ = 3.141592```\n",
    "     (even though the names can't start with numbers, they can start with _underscore_ )\n",
    " - Can't have spaces (use _underscore_ whenever you need to use a space)\n",
    "     - **Example**: ```first_message = \"Hello World!!!\"```\n",
    " - It's impossible to use reserved words (Reserved words of the language meant for internal usage)\n",
    "     - **Example**: ```in```\n",
    " - Variables in Python 3 can have accents (but this practice is not recommended!)\n",
    " - Python 3 is ```case sensitive```, therefore uppercase and lowercase characters mean different things."
   ]
  },
  {
   "cell_type": "code",
   "execution_count": null,
   "metadata": {
    "id": "l7Z-R_Xtnxsd"
   },
   "outputs": [],
   "source": [
    "k   = 2018 # Pouco sugestível\n",
    "ano = 2018 # Ideal"
   ]
  },
  {
   "cell_type": "markdown",
   "metadata": {
    "id": "6aCf02vEnxsl"
   },
   "source": [
    "You can also add commentary lines to your code:\n",
    "- Using the character  ```#```: The information after the sharp sign will not be considered by Python.\n",
    "- Through the combination ```''' comment '''```: The information between the six quotation marks (3 to open a comment and 3 to close it) are not considered by Python."
   ]
  },
  {
   "cell_type": "markdown",
   "metadata": {
    "id": "AkuvfRoPnxsm"
   },
   "source": [
    "## 2.2. Converting data types\n",
    "\n",
    "In some cases, there is the possibility of you having a integer or real number as a _string_. Or even have a number that you want to convert to a _string_. In Python, these convertions can be made in a very simple manner.\n",
    "\n",
    "- The function ```str(x)``` converts the parameter ```x``` given to a string.\n",
    "- The function ```int(x)``` converts the parameter ```x``` given to an int.\n",
    "- The function ```float(x)``` converts the parameter ```x``` given to a float.\n"
   ]
  },
  {
   "cell_type": "code",
   "execution_count": null,
   "metadata": {
    "colab": {
     "base_uri": "https://localhost:8080/",
     "height": 51
    },
    "executionInfo": {
     "elapsed": 1356,
     "status": "ok",
     "timestamp": 1599572385034,
     "user": {
      "displayName": "Henrique Frajacomo",
      "photoUrl": "https://lh3.googleusercontent.com/a-/AOh14GhQDFNhG11h9UJPe8Eg-KqmHhIL8k9af1i9FNc=s64",
      "userId": "15794806591433679473"
     },
     "user_tz": 180
    },
    "id": "kfM_CzEXnxsm",
    "outputId": "a6f0d38d-a866-4253-a7e3-8c4a0bed51b5"
   },
   "outputs": [
    {
     "name": "stdout",
     "output_type": "stream",
     "text": [
      "1 <class 'str'>\n",
      "1 <class 'int'>\n"
     ]
    }
   ],
   "source": [
    "um = '1'\n",
    "print(um, type(um))\n",
    "print(int(um), type(int(um)))"
   ]
  },
  {
   "cell_type": "code",
   "execution_count": null,
   "metadata": {
    "colab": {
     "base_uri": "https://localhost:8080/",
     "height": 51
    },
    "executionInfo": {
     "elapsed": 819,
     "status": "ok",
     "timestamp": 1599572611514,
     "user": {
      "displayName": "Henrique Frajacomo",
      "photoUrl": "https://lh3.googleusercontent.com/a-/AOh14GhQDFNhG11h9UJPe8Eg-KqmHhIL8k9af1i9FNc=s64",
      "userId": "15794806591433679473"
     },
     "user_tz": 180
    },
    "id": "mkraaXTonxss",
    "outputId": "a364a273-8609-407d-c53d-0e8246d9fe39"
   },
   "outputs": [
    {
     "name": "stdout",
     "output_type": "stream",
     "text": [
      "1 <class 'int'>\n",
      "1 <class 'str'>\n"
     ]
    }
   ],
   "source": [
    "um = 1\n",
    "print(um ,type(um))\n",
    "print(str(um), type(str(um)))"
   ]
  },
  {
   "cell_type": "code",
   "execution_count": null,
   "metadata": {
    "colab": {
     "base_uri": "https://localhost:8080/",
     "height": 51
    },
    "executionInfo": {
     "elapsed": 851,
     "status": "ok",
     "timestamp": 1599572665788,
     "user": {
      "displayName": "Henrique Frajacomo",
      "photoUrl": "https://lh3.googleusercontent.com/a-/AOh14GhQDFNhG11h9UJPe8Eg-KqmHhIL8k9af1i9FNc=s64",
      "userId": "15794806591433679473"
     },
     "user_tz": 180
    },
    "id": "r4ihZFbwnxsz",
    "outputId": "96cc7ca0-d8b6-42d2-8833-435b27fca82f",
    "scrolled": true
   },
   "outputs": [
    {
     "name": "stdout",
     "output_type": "stream",
     "text": [
      "3.1415 <class 'float'>\n",
      "3 <class 'int'>\n"
     ]
    }
   ],
   "source": [
    "pi = 3.1415\n",
    "print(pi, type(pi))\n",
    "print(int(pi), type(int(pi)))"
   ]
  },
  {
   "cell_type": "markdown",
   "metadata": {
    "id": "0-jmwDk7nxs3"
   },
   "source": [
    "## 2.3. Variables and time\n",
    "\n",
    "A Python code is usually executed line by line by the computer (or cell by cell, if you are running a Jupyter Notebook).\n",
    "\n",
    "The content of a variable can change overtime, since every attribution overwrites the last known value."
   ]
  },
  {
   "cell_type": "code",
   "execution_count": null,
   "metadata": {
    "id": "jR7ZHE1Qnxs4"
   },
   "outputs": [],
   "source": [
    "repetition_DNA = 7 * \"ATC\""
   ]
  },
  {
   "cell_type": "code",
   "execution_count": null,
   "metadata": {
    "colab": {
     "base_uri": "https://localhost:8080/",
     "height": 35
    },
    "executionInfo": {
     "elapsed": 935,
     "status": "ok",
     "timestamp": 1599573320489,
     "user": {
      "displayName": "Henrique Frajacomo",
      "photoUrl": "https://lh3.googleusercontent.com/a-/AOh14GhQDFNhG11h9UJPe8Eg-KqmHhIL8k9af1i9FNc=s64",
      "userId": "15794806591433679473"
     },
     "user_tz": 180
    },
    "id": "wcYSp5-gnxs8",
    "outputId": "1e228069-07c2-4b54-d432-ca75e09697b7"
   },
   "outputs": [
    {
     "data": {
      "application/vnd.google.colaboratory.intrinsic+json": {
       "type": "string"
      },
      "text/plain": [
       "'ATCATCATCATCATCATCATC'"
      ]
     },
     "execution_count": 27,
     "metadata": {
      "tags": []
     },
     "output_type": "execute_result"
    }
   ],
   "source": [
    "repetition_DNA"
   ]
  },
  {
   "cell_type": "code",
   "execution_count": null,
   "metadata": {
    "id": "iSBWyHhdnxtF"
   },
   "outputs": [],
   "source": [
    "repetition_DNA = 5 * \"ATC\""
   ]
  },
  {
   "cell_type": "code",
   "execution_count": null,
   "metadata": {
    "colab": {
     "base_uri": "https://localhost:8080/",
     "height": 35
    },
    "executionInfo": {
     "elapsed": 886,
     "status": "ok",
     "timestamp": 1599573339850,
     "user": {
      "displayName": "Henrique Frajacomo",
      "photoUrl": "https://lh3.googleusercontent.com/a-/AOh14GhQDFNhG11h9UJPe8Eg-KqmHhIL8k9af1i9FNc=s64",
      "userId": "15794806591433679473"
     },
     "user_tz": 180
    },
    "id": "r4P7aqkxnxtI",
    "outputId": "e44e0d32-e00f-488c-a0a5-561fc206527f"
   },
   "outputs": [
    {
     "data": {
      "application/vnd.google.colaboratory.intrinsic+json": {
       "type": "string"
      },
      "text/plain": [
       "'ATCATCATCATCATC'"
      ]
     },
     "execution_count": 29,
     "metadata": {
      "tags": []
     },
     "output_type": "execute_result"
    }
   ],
   "source": [
    "repetition_DNA"
   ]
  },
  {
   "cell_type": "markdown",
   "metadata": {
    "id": "LkdKE4ALnxtM"
   },
   "source": [
    "# 3. Arithmetic Operations\n",
    "\n",
    "You can use various arithmetic operations with the different number types shown. The table below exposes the possible operations and their operators:\n",
    "\n",
    "| Operation        | Operator        | \n",
    "|-----------------|-----------------|\n",
    "| Sum            | ```+```         |\n",
    "| Subtraction       | ```-```         |\n",
    "| Multiplication   | ```*```         |\n",
    "| Division         | ```/```         |\n",
    "| Integer Division | ```//```        |\n",
    "| Mod (division) | ```%```         |\n",
    "| Power   | ```**```        |"
   ]
  },
  {
   "cell_type": "code",
   "execution_count": null,
   "metadata": {
    "id": "-SFdHmbunxtN",
    "scrolled": true
   },
   "outputs": [],
   "source": [
    "sum_ = 2 + 3.2"
   ]
  },
  {
   "cell_type": "code",
   "execution_count": null,
   "metadata": {
    "colab": {
     "base_uri": "https://localhost:8080/",
     "height": 34
    },
    "executionInfo": {
     "elapsed": 1312,
     "status": "ok",
     "timestamp": 1599573502173,
     "user": {
      "displayName": "Henrique Frajacomo",
      "photoUrl": "https://lh3.googleusercontent.com/a-/AOh14GhQDFNhG11h9UJPe8Eg-KqmHhIL8k9af1i9FNc=s64",
      "userId": "15794806591433679473"
     },
     "user_tz": 180
    },
    "id": "CnFzAoXTnxtV",
    "outputId": "785a5a7c-17f9-4fcf-a285-b9200d960481"
   },
   "outputs": [
    {
     "data": {
      "text/plain": [
       "5.2"
      ]
     },
     "execution_count": 31,
     "metadata": {
      "tags": []
     },
     "output_type": "execute_result"
    }
   ],
   "source": [
    "sum_"
   ]
  },
  {
   "cell_type": "code",
   "execution_count": null,
   "metadata": {
    "id": "9fGwxxU_nxtZ"
   },
   "outputs": [],
   "source": [
    "subtraction = 3 - 4"
   ]
  },
  {
   "cell_type": "code",
   "execution_count": null,
   "metadata": {
    "colab": {
     "base_uri": "https://localhost:8080/",
     "height": 34
    },
    "executionInfo": {
     "elapsed": 856,
     "status": "ok",
     "timestamp": 1599573548877,
     "user": {
      "displayName": "Henrique Frajacomo",
      "photoUrl": "https://lh3.googleusercontent.com/a-/AOh14GhQDFNhG11h9UJPe8Eg-KqmHhIL8k9af1i9FNc=s64",
      "userId": "15794806591433679473"
     },
     "user_tz": 180
    },
    "id": "CS4wb-vfnxtc",
    "outputId": "c0a37629-b501-42c1-f3c1-4e95aeabb413"
   },
   "outputs": [
    {
     "data": {
      "text/plain": [
       "-1"
      ]
     },
     "execution_count": 33,
     "metadata": {
      "tags": []
     },
     "output_type": "execute_result"
    }
   ],
   "source": [
    "subtraction"
   ]
  },
  {
   "cell_type": "code",
   "execution_count": null,
   "metadata": {
    "id": "8xFXX1I4nxth"
   },
   "outputs": [],
   "source": [
    "multiplication = 5 * 11"
   ]
  },
  {
   "cell_type": "code",
   "execution_count": null,
   "metadata": {
    "colab": {
     "base_uri": "https://localhost:8080/",
     "height": 34
    },
    "executionInfo": {
     "elapsed": 990,
     "status": "ok",
     "timestamp": 1599573596953,
     "user": {
      "displayName": "Henrique Frajacomo",
      "photoUrl": "https://lh3.googleusercontent.com/a-/AOh14GhQDFNhG11h9UJPe8Eg-KqmHhIL8k9af1i9FNc=s64",
      "userId": "15794806591433679473"
     },
     "user_tz": 180
    },
    "id": "UUjE7SOtnxtn",
    "outputId": "e7a8bca3-ab34-4e6a-cea6-c087e7313982"
   },
   "outputs": [
    {
     "data": {
      "text/plain": [
       "55"
      ]
     },
     "execution_count": 35,
     "metadata": {
      "tags": []
     },
     "output_type": "execute_result"
    }
   ],
   "source": [
    "multiplication"
   ]
  },
  {
   "cell_type": "code",
   "execution_count": null,
   "metadata": {
    "id": "SvAOcJbvnxtr"
   },
   "outputs": [],
   "source": [
    "division = 13 / 5.2"
   ]
  },
  {
   "cell_type": "code",
   "execution_count": null,
   "metadata": {
    "colab": {
     "base_uri": "https://localhost:8080/",
     "height": 34
    },
    "executionInfo": {
     "elapsed": 855,
     "status": "ok",
     "timestamp": 1599573611710,
     "user": {
      "displayName": "Henrique Frajacomo",
      "photoUrl": "https://lh3.googleusercontent.com/a-/AOh14GhQDFNhG11h9UJPe8Eg-KqmHhIL8k9af1i9FNc=s64",
      "userId": "15794806591433679473"
     },
     "user_tz": 180
    },
    "id": "D85gekB2nxtw",
    "outputId": "96b4e61f-289f-4e55-e1cc-e806df471d11"
   },
   "outputs": [
    {
     "data": {
      "text/plain": [
       "2.5"
      ]
     },
     "execution_count": 37,
     "metadata": {
      "tags": []
     },
     "output_type": "execute_result"
    }
   ],
   "source": [
    "division"
   ]
  },
  {
   "cell_type": "code",
   "execution_count": null,
   "metadata": {
    "id": "1OCTMNBqnxt1"
   },
   "outputs": [],
   "source": [
    "integerDivision = 13 // 5"
   ]
  },
  {
   "cell_type": "code",
   "execution_count": null,
   "metadata": {
    "colab": {
     "base_uri": "https://localhost:8080/",
     "height": 34
    },
    "executionInfo": {
     "elapsed": 1067,
     "status": "ok",
     "timestamp": 1599573639632,
     "user": {
      "displayName": "Henrique Frajacomo",
      "photoUrl": "https://lh3.googleusercontent.com/a-/AOh14GhQDFNhG11h9UJPe8Eg-KqmHhIL8k9af1i9FNc=s64",
      "userId": "15794806591433679473"
     },
     "user_tz": 180
    },
    "id": "y1D9Bsg2nxt6",
    "outputId": "4a07f354-5311-4a92-cfd6-2b7f670e15f2"
   },
   "outputs": [
    {
     "data": {
      "text/plain": [
       "2"
      ]
     },
     "execution_count": 39,
     "metadata": {
      "tags": []
     },
     "output_type": "execute_result"
    }
   ],
   "source": [
    "integerDivision"
   ]
  },
  {
   "cell_type": "code",
   "execution_count": null,
   "metadata": {
    "id": "x4kIlypmnxt_"
   },
   "outputs": [],
   "source": [
    "mod = 103.5 % 10"
   ]
  },
  {
   "cell_type": "code",
   "execution_count": null,
   "metadata": {
    "colab": {
     "base_uri": "https://localhost:8080/",
     "height": 34
    },
    "executionInfo": {
     "elapsed": 957,
     "status": "ok",
     "timestamp": 1599573699946,
     "user": {
      "displayName": "Henrique Frajacomo",
      "photoUrl": "https://lh3.googleusercontent.com/a-/AOh14GhQDFNhG11h9UJPe8Eg-KqmHhIL8k9af1i9FNc=s64",
      "userId": "15794806591433679473"
     },
     "user_tz": 180
    },
    "id": "wE9FzP3snxuD",
    "outputId": "9931db1b-69eb-4c7f-de7a-6b0f06ccf57f"
   },
   "outputs": [
    {
     "data": {
      "text/plain": [
       "3.5"
      ]
     },
     "execution_count": 41,
     "metadata": {
      "tags": []
     },
     "output_type": "execute_result"
    }
   ],
   "source": [
    "mod"
   ]
  },
  {
   "cell_type": "code",
   "execution_count": null,
   "metadata": {
    "id": "wcjBfPpNnxuJ"
   },
   "outputs": [],
   "source": [
    "power = 2 ** 10"
   ]
  },
  {
   "cell_type": "code",
   "execution_count": null,
   "metadata": {
    "colab": {
     "base_uri": "https://localhost:8080/",
     "height": 34
    },
    "executionInfo": {
     "elapsed": 945,
     "status": "ok",
     "timestamp": 1599573751876,
     "user": {
      "displayName": "Henrique Frajacomo",
      "photoUrl": "https://lh3.googleusercontent.com/a-/AOh14GhQDFNhG11h9UJPe8Eg-KqmHhIL8k9af1i9FNc=s64",
      "userId": "15794806591433679473"
     },
     "user_tz": 180
    },
    "id": "cLrbzm1onxuM",
    "outputId": "c02d0a2b-f884-40d8-972c-f27bbaf13c42"
   },
   "outputs": [
    {
     "data": {
      "text/plain": [
       "1024"
      ]
     },
     "execution_count": 43,
     "metadata": {
      "tags": []
     },
     "output_type": "execute_result"
    }
   ],
   "source": [
    "power"
   ]
  },
  {
   "cell_type": "markdown",
   "metadata": {
    "id": "tgAD6c9ynxuP"
   },
   "source": [
    "The execution order of these functions is the same as in mathematics. Also, you can use parenthesis to define the order of execution of the defined operations."
   ]
  },
  {
   "cell_type": "code",
   "execution_count": null,
   "metadata": {
    "id": "5XfRf8mBnxuQ"
   },
   "outputs": [],
   "source": [
    "result = -(1 * 2 * 3) + (4 ** (1/2))"
   ]
  },
  {
   "cell_type": "code",
   "execution_count": null,
   "metadata": {
    "colab": {
     "base_uri": "https://localhost:8080/",
     "height": 34
    },
    "executionInfo": {
     "elapsed": 845,
     "status": "ok",
     "timestamp": 1599574298327,
     "user": {
      "displayName": "Henrique Frajacomo",
      "photoUrl": "https://lh3.googleusercontent.com/a-/AOh14GhQDFNhG11h9UJPe8Eg-KqmHhIL8k9af1i9FNc=s64",
      "userId": "15794806591433679473"
     },
     "user_tz": 180
    },
    "id": "Psc7Z7BlnxuT",
    "outputId": "560e8244-27fb-4097-90aa-6107b171c199"
   },
   "outputs": [
    {
     "data": {
      "text/plain": [
       "-4.0"
      ]
     },
     "execution_count": 45,
     "metadata": {
      "tags": []
     },
     "output_type": "execute_result"
    }
   ],
   "source": [
    "result"
   ]
  },
  {
   "cell_type": "markdown",
   "metadata": {
    "id": "DKhIMZt9nxuY"
   },
   "source": [
    "## Exercises\n",
    "\n",
    "Considering the arithmetic operations presented in this section:\n",
    "\n",
    "1. Write code that calculates the number of peptide bonds of a protein with 20 aminoacids.\n",
    "\n",
    "2. Write code that calculates the expected number of aminoacid residues in the translated protein, for a coding sequence of size 130."
   ]
  },
  {
   "cell_type": "markdown",
   "metadata": {
    "id": "08Y9RB4vCMRM"
   },
   "source": [
    "# Extra\n",
    "\n",
    "1. Create the objects $num1=1450$ e $num2=198$. Perform a sum of those using their object names.\n",
    "\n",
    "2. Divide each of these values by 2 and store the results in other two vectors  ($res1$ e $res2$). What are the values in the new objects?\n",
    "\n",
    "3. Calculate $\\frac{1,78}{2} + \\frac{5,43}{3}$.\n",
    "\n",
    "4. Calculate the expression $\\frac{(x+y)\\times h}{k+a+g} + u$, assuming that $x=9$, $y=27$, $h=6$, $k=1$, $a=2$, $g=3$ e $u=5$."
   ]
  },
  {
   "cell_type": "markdown",
   "metadata": {
    "id": "9JiJvt3SnxuY"
   },
   "source": [
    "## 4. Logical, Boolean and Comparison Operations"
   ]
  },
  {
   "cell_type": "markdown",
   "metadata": {
    "id": "pPIFaqexnxuZ"
   },
   "source": [
    "## 4.1. Logid-typed variables\n",
    "\n",
    "When we want to store simple content: `true` or` false` in a variable."
   ]
  },
  {
   "cell_type": "code",
   "execution_count": null,
   "metadata": {
    "id": "csSlokU6nxuZ"
   },
   "outputs": [],
   "source": [
    "result = True"
   ]
  },
  {
   "cell_type": "code",
   "execution_count": null,
   "metadata": {
    "id": "8o-QG3h-nxuc"
   },
   "outputs": [],
   "source": [
    "approved = False"
   ]
  },
  {
   "cell_type": "code",
   "execution_count": null,
   "metadata": {
    "colab": {
     "base_uri": "https://localhost:8080/",
     "height": 34
    },
    "executionInfo": {
     "elapsed": 1191,
     "status": "ok",
     "timestamp": 1599586905203,
     "user": {
      "displayName": "Henrique Frajacomo",
      "photoUrl": "https://lh3.googleusercontent.com/a-/AOh14GhQDFNhG11h9UJPe8Eg-KqmHhIL8k9af1i9FNc=s64",
      "userId": "15794806591433679473"
     },
     "user_tz": 180
    },
    "id": "eDtqj7bynxu0",
    "outputId": "e684135a-1771-4f6b-cd7f-a02a24ae4ee3"
   },
   "outputs": [
    {
     "data": {
      "text/plain": [
       "True"
      ]
     },
     "execution_count": 50,
     "metadata": {
      "tags": []
     },
     "output_type": "execute_result"
    }
   ],
   "source": [
    "result"
   ]
  },
  {
   "cell_type": "code",
   "execution_count": null,
   "metadata": {
    "colab": {
     "base_uri": "https://localhost:8080/",
     "height": 34
    },
    "executionInfo": {
     "elapsed": 1169,
     "status": "ok",
     "timestamp": 1599586907849,
     "user": {
      "displayName": "Henrique Frajacomo",
      "photoUrl": "https://lh3.googleusercontent.com/a-/AOh14GhQDFNhG11h9UJPe8Eg-KqmHhIL8k9af1i9FNc=s64",
      "userId": "15794806591433679473"
     },
     "user_tz": 180
    },
    "id": "xf4bIRMvnxu6",
    "outputId": "6ddb2ff1-5dc6-4f49-aa76-7a6bcb539eb6"
   },
   "outputs": [
    {
     "data": {
      "text/plain": [
       "False"
      ]
     },
     "execution_count": 51,
     "metadata": {
      "tags": []
     },
     "output_type": "execute_result"
    }
   ],
   "source": [
    "approved"
   ]
  },
  {
   "cell_type": "markdown",
   "metadata": {
    "id": "EO_DPijlnxu9"
   },
   "source": [
    "## 4.2. Logical, Boolean and Comparison Operations"
   ]
  },
  {
   "cell_type": "markdown",
   "metadata": {
    "id": "4_cDRIitnxu9"
   },
   "source": [
    "Logical, Boolean and comparison operations are useful for comparing numbers, results of arithmetic operations and even strings. They are those that return true (True) or false (False).\n",
    "\n",
    "The table below shows the comparison operations, Boolean operations, as well as their operators.\n",
    "\n",
    "\n",
    "| Operation type | Operation        | Operator        | \n",
    "| ---------- |-----------------|---------------------|\n",
    "| Comparison / relational | Difference       | ```!=```        |\n",
    "| Comparison / relational | Greater than       | ```>```         |\n",
    "| Comparison / relational | Greater or equal to| ```>=```        |\n",
    "| Comparison / relational | Smaller than      | ```<```         |\n",
    "| Comparison / relational | Smaller of equal to| ```<=```        |\n",
    "| Comparison / relational | Equivalent to   | ```==```        |\n",
    "| Boolean / Logic | True      | ```True```      |\n",
    "| Boolean / Logic | False           | ```False```     |\n",
    "| Boolean / Logic | Negation         | ```not```       |\n",
    "| Boolean / Logic | AND               | ```and```       |\n",
    "| Boolean / Logic | OR              | ```or```        |\n",
    "\n",
    "These operators are very useful when we are working with conditional structures (`if-then-else` - will be covered later), used when code needs to decide which way to go.\n",
    "\n",
    "### Truth Table\n",
    "\n",
    "The results of Boolean (logical) operations can be described in a table called the Truth Table.\n",
    "\n",
    "|    A    |    B    |    NOT A    |    A AND B    |    A OR B    |\n",
    "|---------|---------|-------------|---------------|--------------|\n",
    "| False   | False   |    True     |     False     |     False    |\n",
    "| False   | True    |    True     |     False     |     True     |\n",
    "| True    | False   |    False    |     False     |     True     |\n",
    "| True    | True    |    False    |     True      |     True     |   "
   ]
  },
  {
   "cell_type": "code",
   "execution_count": null,
   "metadata": {
    "colab": {
     "base_uri": "https://localhost:8080/",
     "height": 34
    },
    "executionInfo": {
     "elapsed": 895,
     "status": "ok",
     "timestamp": 1599587197411,
     "user": {
      "displayName": "Henrique Frajacomo",
      "photoUrl": "https://lh3.googleusercontent.com/a-/AOh14GhQDFNhG11h9UJPe8Eg-KqmHhIL8k9af1i9FNc=s64",
      "userId": "15794806591433679473"
     },
     "user_tz": 180
    },
    "id": "Zi-PpXErnxu_",
    "outputId": "1946a3bb-4efa-4733-ad38-035a1d5b5304"
   },
   "outputs": [
    {
     "data": {
      "text/plain": [
       "True"
      ]
     },
     "execution_count": 52,
     "metadata": {
      "tags": []
     },
     "output_type": "execute_result"
    }
   ],
   "source": [
    "1 < 4 < 6"
   ]
  },
  {
   "cell_type": "code",
   "execution_count": null,
   "metadata": {
    "colab": {
     "base_uri": "https://localhost:8080/",
     "height": 34
    },
    "executionInfo": {
     "elapsed": 867,
     "status": "ok",
     "timestamp": 1599587244943,
     "user": {
      "displayName": "Henrique Frajacomo",
      "photoUrl": "https://lh3.googleusercontent.com/a-/AOh14GhQDFNhG11h9UJPe8Eg-KqmHhIL8k9af1i9FNc=s64",
      "userId": "15794806591433679473"
     },
     "user_tz": 180
    },
    "id": "336ITN14nxvC",
    "outputId": "ff20e9fd-df2f-4e68-eead-7df670d2c9e9"
   },
   "outputs": [
    {
     "data": {
      "text/plain": [
       "True"
      ]
     },
     "execution_count": 53,
     "metadata": {
      "tags": []
     },
     "output_type": "execute_result"
    }
   ],
   "source": [
    "5 >= 4"
   ]
  },
  {
   "cell_type": "code",
   "execution_count": null,
   "metadata": {
    "colab": {
     "base_uri": "https://localhost:8080/",
     "height": 34
    },
    "executionInfo": {
     "elapsed": 846,
     "status": "ok",
     "timestamp": 1599587273492,
     "user": {
      "displayName": "Henrique Frajacomo",
      "photoUrl": "https://lh3.googleusercontent.com/a-/AOh14GhQDFNhG11h9UJPe8Eg-KqmHhIL8k9af1i9FNc=s64",
      "userId": "15794806591433679473"
     },
     "user_tz": 180
    },
    "id": "CiL65hbPnxvJ",
    "outputId": "8c2430e8-d118-4d78-d559-0ba2b1fce49e"
   },
   "outputs": [
    {
     "data": {
      "text/plain": [
       "False"
      ]
     },
     "execution_count": 54,
     "metadata": {
      "tags": []
     },
     "output_type": "execute_result"
    }
   ],
   "source": [
    "2 == 1"
   ]
  },
  {
   "cell_type": "markdown",
   "metadata": {
    "id": "k7IZFc0-nxvL"
   },
   "source": [
    "Using the logic operation `or`:"
   ]
  },
  {
   "cell_type": "code",
   "execution_count": null,
   "metadata": {
    "colab": {
     "base_uri": "https://localhost:8080/",
     "height": 34
    },
    "executionInfo": {
     "elapsed": 977,
     "status": "ok",
     "timestamp": 1599587319336,
     "user": {
      "displayName": "Henrique Frajacomo",
      "photoUrl": "https://lh3.googleusercontent.com/a-/AOh14GhQDFNhG11h9UJPe8Eg-KqmHhIL8k9af1i9FNc=s64",
      "userId": "15794806591433679473"
     },
     "user_tz": 180
    },
    "id": "3W1y3C5BnxvM",
    "outputId": "65ae8819-2fd9-46c6-a558-251baaacb34f"
   },
   "outputs": [
    {
     "data": {
      "text/plain": [
       "True"
      ]
     },
     "execution_count": 55,
     "metadata": {
      "tags": []
     },
     "output_type": "execute_result"
    }
   ],
   "source": [
    "2 < 2 or 5 > 1"
   ]
  },
  {
   "cell_type": "markdown",
   "metadata": {
    "id": "ti4TsHztnxvO"
   },
   "source": [
    "Using the logic operation `not`:"
   ]
  },
  {
   "cell_type": "code",
   "execution_count": null,
   "metadata": {
    "colab": {
     "base_uri": "https://localhost:8080/",
     "height": 34
    },
    "executionInfo": {
     "elapsed": 600,
     "status": "ok",
     "timestamp": 1599587348534,
     "user": {
      "displayName": "Henrique Frajacomo",
      "photoUrl": "https://lh3.googleusercontent.com/a-/AOh14GhQDFNhG11h9UJPe8Eg-KqmHhIL8k9af1i9FNc=s64",
      "userId": "15794806591433679473"
     },
     "user_tz": 180
    },
    "id": "H5q6VNadnxvP",
    "outputId": "ba7b60d7-6d13-4e34-b10d-22869e9650c2"
   },
   "outputs": [
    {
     "data": {
      "text/plain": [
       "True"
      ]
     },
     "execution_count": 56,
     "metadata": {
      "tags": []
     },
     "output_type": "execute_result"
    }
   ],
   "source": [
    "not(1 != 1)"
   ]
  },
  {
   "cell_type": "markdown",
   "metadata": {
    "id": "mEqDtbeNnxvT"
   },
   "source": [
    "Using the logic operation `and`:"
   ]
  },
  {
   "cell_type": "code",
   "execution_count": null,
   "metadata": {
    "colab": {
     "base_uri": "https://localhost:8080/",
     "height": 34
    },
    "executionInfo": {
     "elapsed": 1036,
     "status": "ok",
     "timestamp": 1599587400000,
     "user": {
      "displayName": "Henrique Frajacomo",
      "photoUrl": "https://lh3.googleusercontent.com/a-/AOh14GhQDFNhG11h9UJPe8Eg-KqmHhIL8k9af1i9FNc=s64",
      "userId": "15794806591433679473"
     },
     "user_tz": 180
    },
    "id": "5ywZfOmhnxvU",
    "outputId": "01e55367-41a8-4d4e-a5d3-e26f3baafc54"
   },
   "outputs": [
    {
     "data": {
      "text/plain": [
       "True"
      ]
     },
     "execution_count": 57,
     "metadata": {
      "tags": []
     },
     "output_type": "execute_result"
    }
   ],
   "source": [
    "2 > 1 and 1 <= 2"
   ]
  },
  {
   "cell_type": "code",
   "execution_count": null,
   "metadata": {
    "colab": {
     "base_uri": "https://localhost:8080/",
     "height": 34
    },
    "executionInfo": {
     "elapsed": 1039,
     "status": "ok",
     "timestamp": 1599587418979,
     "user": {
      "displayName": "Henrique Frajacomo",
      "photoUrl": "https://lh3.googleusercontent.com/a-/AOh14GhQDFNhG11h9UJPe8Eg-KqmHhIL8k9af1i9FNc=s64",
      "userId": "15794806591433679473"
     },
     "user_tz": 180
    },
    "id": "o_1-OQutnxva",
    "outputId": "042c11fa-9f63-493b-e684-a4de6ca1238c"
   },
   "outputs": [
    {
     "data": {
      "text/plain": [
       "False"
      ]
     },
     "execution_count": 58,
     "metadata": {
      "tags": []
     },
     "output_type": "execute_result"
    }
   ],
   "source": [
    "2 < 1 and 1 <= 2"
   ]
  },
  {
   "cell_type": "markdown",
   "metadata": {
    "id": "XajYl67Mnxve"
   },
   "source": [
    "Strings can also be compared:"
   ]
  },
  {
   "cell_type": "code",
   "execution_count": null,
   "metadata": {
    "colab": {
     "base_uri": "https://localhost:8080/",
     "height": 34
    },
    "executionInfo": {
     "elapsed": 1167,
     "status": "ok",
     "timestamp": 1599587450949,
     "user": {
      "displayName": "Henrique Frajacomo",
      "photoUrl": "https://lh3.googleusercontent.com/a-/AOh14GhQDFNhG11h9UJPe8Eg-KqmHhIL8k9af1i9FNc=s64",
      "userId": "15794806591433679473"
     },
     "user_tz": 180
    },
    "id": "rG5du4w1nxve",
    "outputId": "a268e0f3-ed2a-41ac-be2b-1ddf49888011"
   },
   "outputs": [
    {
     "data": {
      "text/plain": [
       "True"
      ]
     },
     "execution_count": 59,
     "metadata": {
      "tags": []
     },
     "output_type": "execute_result"
    }
   ],
   "source": [
    "'actcacactaac' == 'actcacactaac'"
   ]
  },
  {
   "cell_type": "code",
   "execution_count": null,
   "metadata": {
    "colab": {
     "base_uri": "https://localhost:8080/",
     "height": 34
    },
    "executionInfo": {
     "elapsed": 1012,
     "status": "ok",
     "timestamp": 1599587463626,
     "user": {
      "displayName": "Henrique Frajacomo",
      "photoUrl": "https://lh3.googleusercontent.com/a-/AOh14GhQDFNhG11h9UJPe8Eg-KqmHhIL8k9af1i9FNc=s64",
      "userId": "15794806591433679473"
     },
     "user_tz": 180
    },
    "id": "H_HHq9qUnxvh",
    "outputId": "63965643-7f47-481a-88f4-e850cd6e7dd5"
   },
   "outputs": [
    {
     "data": {
      "text/plain": [
       "False"
      ]
     },
     "execution_count": 60,
     "metadata": {
      "tags": []
     },
     "output_type": "execute_result"
    }
   ],
   "source": [
    "'actc' == 'actcacactaac'"
   ]
  },
  {
   "cell_type": "markdown",
   "metadata": {
    "id": "EMZLV6H1nxvk"
   },
   "source": [
    "## 4.3. Logic Expressions\n",
    "\n",
    "Logical and relational operators can be used in more complex expressions."
   ]
  },
  {
   "cell_type": "code",
   "execution_count": null,
   "metadata": {
    "colab": {
     "base_uri": "https://localhost:8080/",
     "height": 34
    },
    "executionInfo": {
     "elapsed": 845,
     "status": "ok",
     "timestamp": 1599587615864,
     "user": {
      "displayName": "Henrique Frajacomo",
      "photoUrl": "https://lh3.googleusercontent.com/a-/AOh14GhQDFNhG11h9UJPe8Eg-KqmHhIL8k9af1i9FNc=s64",
      "userId": "15794806591433679473"
     },
     "user_tz": 180
    },
    "id": "vqM98NFNnxvk",
    "outputId": "43fd9271-6bdc-4c75-eb0f-74a4f4ffd37d"
   },
   "outputs": [
    {
     "data": {
      "text/plain": [
       "True"
      ]
     },
     "execution_count": 61,
     "metadata": {
      "tags": []
     },
     "output_type": "execute_result"
    }
   ],
   "source": [
    "True or False and not True"
   ]
  },
  {
   "cell_type": "code",
   "execution_count": null,
   "metadata": {
    "colab": {
     "base_uri": "https://localhost:8080/",
     "height": 34
    },
    "executionInfo": {
     "elapsed": 864,
     "status": "ok",
     "timestamp": 1599587699824,
     "user": {
      "displayName": "Henrique Frajacomo",
      "photoUrl": "https://lh3.googleusercontent.com/a-/AOh14GhQDFNhG11h9UJPe8Eg-KqmHhIL8k9af1i9FNc=s64",
      "userId": "15794806591433679473"
     },
     "user_tz": 180
    },
    "id": "_mNmKd6Xnxvs",
    "outputId": "69ef39b1-6a15-4bf4-ee65-21e49186480e"
   },
   "outputs": [
    {
     "data": {
      "text/plain": [
       "True"
      ]
     },
     "execution_count": 62,
     "metadata": {
      "tags": []
     },
     "output_type": "execute_result"
    }
   ],
   "source": [
    "True or False and False"
   ]
  },
  {
   "cell_type": "code",
   "execution_count": null,
   "metadata": {
    "colab": {
     "base_uri": "https://localhost:8080/",
     "height": 34
    },
    "executionInfo": {
     "elapsed": 835,
     "status": "ok",
     "timestamp": 1599587740430,
     "user": {
      "displayName": "Henrique Frajacomo",
      "photoUrl": "https://lh3.googleusercontent.com/a-/AOh14GhQDFNhG11h9UJPe8Eg-KqmHhIL8k9af1i9FNc=s64",
      "userId": "15794806591433679473"
     },
     "user_tz": 180
    },
    "id": "oBFk3WuOnxvw",
    "outputId": "98047ed8-b6f3-4bc5-e7c1-882e28a99bd5"
   },
   "outputs": [
    {
     "data": {
      "text/plain": [
       "True"
      ]
     },
     "execution_count": 63,
     "metadata": {
      "tags": []
     },
     "output_type": "execute_result"
    }
   ],
   "source": [
    "True or False"
   ]
  },
  {
   "cell_type": "code",
   "execution_count": null,
   "metadata": {
    "colab": {
     "base_uri": "https://localhost:8080/",
     "height": 34
    },
    "executionInfo": {
     "elapsed": 828,
     "status": "ok",
     "timestamp": 1599587745760,
     "user": {
      "displayName": "Henrique Frajacomo",
      "photoUrl": "https://lh3.googleusercontent.com/a-/AOh14GhQDFNhG11h9UJPe8Eg-KqmHhIL8k9af1i9FNc=s64",
      "userId": "15794806591433679473"
     },
     "user_tz": 180
    },
    "id": "FGFT8t4gnxvz",
    "outputId": "a9d3f706-5ec9-409c-9b99-6b87a77c0565"
   },
   "outputs": [
    {
     "data": {
      "text/plain": [
       "True"
      ]
     },
     "execution_count": 64,
     "metadata": {
      "tags": []
     },
     "output_type": "execute_result"
    }
   ],
   "source": [
    "True"
   ]
  },
  {
   "cell_type": "code",
   "execution_count": null,
   "metadata": {
    "id": "xJWSZbcMnxv1"
   },
   "outputs": [],
   "source": [
    "# Exemplo misturando os dois tipos de operadores"
   ]
  },
  {
   "cell_type": "markdown",
   "metadata": {
    "id": "vr4UG-_mnxv6"
   },
   "source": [
    "### Exercises\n",
    "\n",
    "Considering the operations presented in this section:\n",
    "\n",
    "3. Given two variables that store the lengths of a coding nucleotide sequence (CDS) and a protein (integer numeric values), check whether the size of the CDS matches the length of the translated protein (provide additional commands).\n",
    "\n",
    "```python\n",
    "compr_proteina = 30\n",
    "compr_cds = 90\n",
    "compr_proteina2 = 50\n",
    "compr_cds2 = 160\n",
    "```"
   ]
  },
  {
   "cell_type": "markdown",
   "metadata": {
    "id": "grc0d5DKnxv7"
   },
   "source": [
    "# 5. Conditional Structures\n",
    "\n",
    "Many times our code should run a specific array of operations given a condition. In Python, we use the conditional structure ```if-then-else``` to control the program's execution line and, determine which actions should be taken given a condition.\n",
    "\n",
    "The syntax for the  ```if-then-else``` is pretty simple.\n",
    "```python\n",
    "if(<condition>): # if the condition is true, then...\n",
    "    <code>\n",
    "else: # else...\n",
    "    <code>\n",
    "```"
   ]
  },
  {
   "cell_type": "code",
   "execution_count": null,
   "metadata": {
    "id": "VyyF0rBWnxv7"
   },
   "outputs": [],
   "source": [
    "seq_dna1 = 'atcgactgactgaaacac'\n",
    "seq_dna2 = 'agtcaggagag'"
   ]
  },
  {
   "cell_type": "code",
   "execution_count": null,
   "metadata": {
    "colab": {
     "base_uri": "https://localhost:8080/",
     "height": 34
    },
    "executionInfo": {
     "elapsed": 1941,
     "status": "ok",
     "timestamp": 1599589212857,
     "user": {
      "displayName": "Henrique Frajacomo",
      "photoUrl": "https://lh3.googleusercontent.com/a-/AOh14GhQDFNhG11h9UJPe8Eg-KqmHhIL8k9af1i9FNc=s64",
      "userId": "15794806591433679473"
     },
     "user_tz": 180
    },
    "id": "81lYcrEenxv-",
    "outputId": "e7a2b904-75b0-4288-bd4c-ca0412d89e44"
   },
   "outputs": [
    {
     "name": "stdout",
     "output_type": "stream",
     "text": [
      "agtcaggagag\n"
     ]
    }
   ],
   "source": [
    "if(seq_dna1 < seq_dna2):\n",
    "    print(seq_dna1)\n",
    "else:\n",
    "    print(seq_dna2)"
   ]
  },
  {
   "cell_type": "markdown",
   "metadata": {
    "id": "8fsccAlanxwB"
   },
   "source": [
    "In case several conditions should be verified, we can bind many ```if-then-else``` in the format ```if-elif-else```. The keyword ```elif``` expresses the idea of \"else, if\". As in code:\n",
    "\n",
    "```python\n",
    "if(<condition>):\n",
    "    <code>\n",
    "elif(<condition>):\n",
    "    <code>\n",
    "elif(<condition>):\n",
    "    <code>\n",
    "else:\n",
    "    <code>\n",
    "```"
   ]
  },
  {
   "cell_type": "code",
   "execution_count": null,
   "metadata": {
    "colab": {
     "base_uri": "https://localhost:8080/",
     "height": 34
    },
    "executionInfo": {
     "elapsed": 1045,
     "status": "ok",
     "timestamp": 1599589348063,
     "user": {
      "displayName": "Henrique Frajacomo",
      "photoUrl": "https://lh3.googleusercontent.com/a-/AOh14GhQDFNhG11h9UJPe8Eg-KqmHhIL8k9af1i9FNc=s64",
      "userId": "15794806591433679473"
     },
     "user_tz": 180
    },
    "id": "vR6s1PQ2nxwB",
    "outputId": "96509059-546b-41d9-aa6a-54227740ecfc"
   },
   "outputs": [
    {
     "name": "stdout",
     "output_type": "stream",
     "text": [
      "atcgactgactgaaacac\n"
     ]
    }
   ],
   "source": [
    "if(seq_dna1 > seq_dna2):\n",
    "    print(seq_dna1)\n",
    "elif(seq_dna1 < seq_dna2):\n",
    "    print(seq_dna2)\n",
    "else:\n",
    "    print(seq_dna1, seq_dna2)"
   ]
  },
  {
   "cell_type": "code",
   "execution_count": null,
   "metadata": {
    "colab": {
     "base_uri": "https://localhost:8080/",
     "height": 34
    },
    "executionInfo": {
     "elapsed": 811,
     "status": "ok",
     "timestamp": 1599589390974,
     "user": {
      "displayName": "Henrique Frajacomo",
      "photoUrl": "https://lh3.googleusercontent.com/a-/AOh14GhQDFNhG11h9UJPe8Eg-KqmHhIL8k9af1i9FNc=s64",
      "userId": "15794806591433679473"
     },
     "user_tz": 180
    },
    "id": "QPLwuL8JnxwE",
    "outputId": "4f6491fe-8101-4d10-c120-88b8bd50bbdd"
   },
   "outputs": [
    {
     "name": "stdout",
     "output_type": "stream",
     "text": [
      "atcgactgactgaaacac\n"
     ]
    }
   ],
   "source": [
    "if(seq_dna1 > seq_dna2):\n",
    "    print(seq_dna1)"
   ]
  },
  {
   "cell_type": "markdown",
   "metadata": {
    "id": "zf0KYh6tnxwG"
   },
   "source": [
    "If there's only one condition that needs to be verified, without needing an ```else```, you can declare the structure as ```if <condition>```"
   ]
  },
  {
   "cell_type": "markdown",
   "metadata": {
    "id": "h2Or6durnxwH"
   },
   "source": [
    "# 6. Strings and collections of type sequence\n",
    "\n",
    "Strings store textual information in general. Sequences are collections (or containers) of objects sorted in a positional order. The position of every object (element) is determined by it's **index**. We'll cover this up ahead.\n",
    "\n",
    "Python comes with a variety of sequence types ready for use, such as:\n",
    "\n",
    "1. Lists\n",
    "2. Tuples\n",
    "3. Ranges\n",
    "\n",
    "Given that these structures have some characteristics in common, some operations are also common to strings and sequences. From that, you can solve a huge number of problems with those simples structures."
   ]
  },
  {
   "cell_type": "markdown",
   "metadata": {
    "id": "KGEg5M80nxwI"
   },
   "source": [
    "## 6.1. Strings\n",
    "\n",
    "The  _strings_ are a resource of Python to store textual information in general, just like arbitrary collections of bytes (in other words, these collections can represent the contents of image files, for example).\n",
    "\n",
    "In Bioinformatics, _strings_ are important, since they are used to represent DNA, RNA and protein sequences.\n",
    "\n",
    "It's possible to declare a string using simple quotation marks (‘ ’) and double quotation marks (“ ”). This allows you to use double quotation marks in your text if you have declared it in simple ones, and vice-versa."
   ]
  },
  {
   "cell_type": "code",
   "execution_count": null,
   "metadata": {
    "id": "1n-HCaP8nxwJ"
   },
   "outputs": [],
   "source": [
    "cat = 'Felis catus'"
   ]
  },
  {
   "cell_type": "code",
   "execution_count": null,
   "metadata": {
    "id": "BSf2Zk6YnxwL"
   },
   "outputs": [],
   "source": [
    "dog  = \"Canis lupus familiaris\""
   ]
  },
  {
   "cell_type": "code",
   "execution_count": null,
   "metadata": {
    "colab": {
     "base_uri": "https://localhost:8080/",
     "height": 35
    },
    "executionInfo": {
     "elapsed": 1029,
     "status": "ok",
     "timestamp": 1599589769508,
     "user": {
      "displayName": "Henrique Frajacomo",
      "photoUrl": "https://lh3.googleusercontent.com/a-/AOh14GhQDFNhG11h9UJPe8Eg-KqmHhIL8k9af1i9FNc=s64",
      "userId": "15794806591433679473"
     },
     "user_tz": 180
    },
    "id": "p2sI1FL7nxwO",
    "outputId": "8c07c5b4-e149-4781-864c-91e61f0ceb22",
    "scrolled": true
   },
   "outputs": [
    {
     "data": {
      "application/vnd.google.colaboratory.intrinsic+json": {
       "type": "string"
      },
      "text/plain": [
       "'Felis catus'"
      ]
     },
     "execution_count": 76,
     "metadata": {
      "tags": []
     },
     "output_type": "execute_result"
    }
   ],
   "source": [
    "cat"
   ]
  },
  {
   "cell_type": "code",
   "execution_count": null,
   "metadata": {
    "colab": {
     "base_uri": "https://localhost:8080/",
     "height": 35
    },
    "executionInfo": {
     "elapsed": 1032,
     "status": "ok",
     "timestamp": 1599589773580,
     "user": {
      "displayName": "Henrique Frajacomo",
      "photoUrl": "https://lh3.googleusercontent.com/a-/AOh14GhQDFNhG11h9UJPe8Eg-KqmHhIL8k9af1i9FNc=s64",
      "userId": "15794806591433679473"
     },
     "user_tz": 180
    },
    "id": "ndqo460PnxwR",
    "outputId": "e8bf42a2-8b67-40e1-f5d4-f43f173ef50c"
   },
   "outputs": [
    {
     "data": {
      "application/vnd.google.colaboratory.intrinsic+json": {
       "type": "string"
      },
      "text/plain": [
       "'Canis lupus familiaris'"
      ]
     },
     "execution_count": 77,
     "metadata": {
      "tags": []
     },
     "output_type": "execute_result"
    }
   ],
   "source": [
    "dog"
   ]
  },
  {
   "cell_type": "markdown",
   "metadata": {
    "id": "4_DQBJuanxwU"
   },
   "source": [
    "Notice that whitespaces are considered a \"letter\" of a *string*. Let's use the `len()` function to count the number of characters in a *string* that contains whitespaces."
   ]
  },
  {
   "cell_type": "code",
   "execution_count": null,
   "metadata": {
    "colab": {
     "base_uri": "https://localhost:8080/",
     "height": 34
    },
    "executionInfo": {
     "elapsed": 1022,
     "status": "ok",
     "timestamp": 1599589846417,
     "user": {
      "displayName": "Henrique Frajacomo",
      "photoUrl": "https://lh3.googleusercontent.com/a-/AOh14GhQDFNhG11h9UJPe8Eg-KqmHhIL8k9af1i9FNc=s64",
      "userId": "15794806591433679473"
     },
     "user_tz": 180
    },
    "id": "0cAfGaDFnxwU",
    "outputId": "c3f2cbe7-ecf7-4842-a1b1-114422f52a9b"
   },
   "outputs": [
    {
     "data": {
      "text/plain": [
       "7"
      ]
     },
     "execution_count": 78,
     "metadata": {
      "tags": []
     },
     "output_type": "execute_result"
    }
   ],
   "source": [
    "len(\"I walk\")"
   ]
  },
  {
   "cell_type": "code",
   "execution_count": null,
   "metadata": {
    "colab": {
     "base_uri": "https://localhost:8080/",
     "height": 35
    },
    "executionInfo": {
     "elapsed": 1157,
     "status": "ok",
     "timestamp": 1599589859975,
     "user": {
      "displayName": "Henrique Frajacomo",
      "photoUrl": "https://lh3.googleusercontent.com/a-/AOh14GhQDFNhG11h9UJPe8Eg-KqmHhIL8k9af1i9FNc=s64",
      "userId": "15794806591433679473"
     },
     "user_tz": 180
    },
    "id": "ANdhf2UBnxwX",
    "outputId": "09c0b9e6-1d92-45c5-9203-a30bfdefa71a"
   },
   "outputs": [
    {
     "data": {
      "application/vnd.google.colaboratory.intrinsic+json": {
       "type": "string"
      },
      "text/plain": [
       "'Felis catus'"
      ]
     },
     "execution_count": 79,
     "metadata": {
      "tags": []
     },
     "output_type": "execute_result"
    }
   ],
   "source": [
    "cat"
   ]
  },
  {
   "cell_type": "markdown",
   "metadata": {
    "id": "YTLyXVKRnxwe"
   },
   "source": [
    "The content of strings can be accessed character by character using a number, the **index**, which represents the position.\n",
    "\n",
    "**IMPORTANT**: The indexes start at 0, and not at 1!!!"
   ]
  },
  {
   "cell_type": "code",
   "execution_count": null,
   "metadata": {
    "colab": {
     "base_uri": "https://localhost:8080/",
     "height": 35
    },
    "executionInfo": {
     "elapsed": 897,
     "status": "ok",
     "timestamp": 1599589935921,
     "user": {
      "displayName": "Henrique Frajacomo",
      "photoUrl": "https://lh3.googleusercontent.com/a-/AOh14GhQDFNhG11h9UJPe8Eg-KqmHhIL8k9af1i9FNc=s64",
      "userId": "15794806591433679473"
     },
     "user_tz": 180
    },
    "id": "bls8m5dZnxwf",
    "outputId": "44d5449e-748b-4c0e-e44e-028222592536"
   },
   "outputs": [
    {
     "data": {
      "application/vnd.google.colaboratory.intrinsic+json": {
       "type": "string"
      },
      "text/plain": [
       "'F'"
      ]
     },
     "execution_count": 81,
     "metadata": {
      "tags": []
     },
     "output_type": "execute_result"
    }
   ],
   "source": [
    "cat[0]"
   ]
  },
  {
   "cell_type": "code",
   "execution_count": null,
   "metadata": {
    "colab": {
     "base_uri": "https://localhost:8080/",
     "height": 35
    },
    "executionInfo": {
     "elapsed": 1099,
     "status": "ok",
     "timestamp": 1599589953783,
     "user": {
      "displayName": "Henrique Frajacomo",
      "photoUrl": "https://lh3.googleusercontent.com/a-/AOh14GhQDFNhG11h9UJPe8Eg-KqmHhIL8k9af1i9FNc=s64",
      "userId": "15794806591433679473"
     },
     "user_tz": 180
    },
    "id": "oKjfsVwrnxwi",
    "outputId": "a636b00e-6f95-4594-e5f9-ccdc885b9fcc"
   },
   "outputs": [
    {
     "data": {
      "application/vnd.google.colaboratory.intrinsic+json": {
       "type": "string"
      },
      "text/plain": [
       "' '"
      ]
     },
     "execution_count": 82,
     "metadata": {
      "tags": []
     },
     "output_type": "execute_result"
    }
   ],
   "source": [
    "cat[5]"
   ]
  },
  {
   "cell_type": "markdown",
   "metadata": {
    "id": "GEd05an7nxwk"
   },
   "source": [
    "### 6.1.1 _Slice_ of strings\n",
    "\n",
    "_Strings_, have the capacity of having, not only specific characters, but also a range of them. \n",
    "\n",
    "For that, we use ```[]``` and we insert the index of the character that we want to access. In case you want to specify a range of values, we first insert the index of the first element and then the index of the last element separated by ``:`` , or as it's called in Python, the  _slice_ operator.\n",
    "\n",
    "As the first element's index in a sequence is 0, we can access values from `zero` to `sequence length - 1`.\n",
    "\n",
    "The _slice_ slice operator can be used in three different patterns.\n",
    "\n",
    "| Pattern                 | Description\n",
    "|------------------------|----------------------------------------------------------|\n",
    "| ```sequence[i]```     | Returns the value of the element in index ```i``` | \n",
    "| ```sequence[i:j]```   | Returns a subsequence starting at index ```i``` until ```j```|\n",
    "| ```sequence[i:j:k]``` | Returns a subsequence starting at index ```i``` until ```j``` in intervals of ```k```         | "
   ]
  },
  {
   "cell_type": "code",
   "execution_count": null,
   "metadata": {
    "id": "xLlLahMLnxwk"
   },
   "outputs": [],
   "source": [
    "human = 'Homo sapiens'"
   ]
  },
  {
   "cell_type": "code",
   "execution_count": null,
   "metadata": {
    "colab": {
     "base_uri": "https://localhost:8080/",
     "height": 35
    },
    "executionInfo": {
     "elapsed": 1048,
     "status": "ok",
     "timestamp": 1599590107057,
     "user": {
      "displayName": "Henrique Frajacomo",
      "photoUrl": "https://lh3.googleusercontent.com/a-/AOh14GhQDFNhG11h9UJPe8Eg-KqmHhIL8k9af1i9FNc=s64",
      "userId": "15794806591433679473"
     },
     "user_tz": 180
    },
    "id": "9PUMqN_3nxwn",
    "outputId": "4e91ac7a-5cb1-44d2-fd53-55b796ee5fa5"
   },
   "outputs": [
    {
     "data": {
      "application/vnd.google.colaboratory.intrinsic+json": {
       "type": "string"
      },
      "text/plain": [
       "'H'"
      ]
     },
     "execution_count": 84,
     "metadata": {
      "tags": []
     },
     "output_type": "execute_result"
    }
   ],
   "source": [
    "human[0]"
   ]
  },
  {
   "cell_type": "code",
   "execution_count": null,
   "metadata": {
    "colab": {
     "base_uri": "https://localhost:8080/",
     "height": 35
    },
    "executionInfo": {
     "elapsed": 1293,
     "status": "ok",
     "timestamp": 1599590145202,
     "user": {
      "displayName": "Henrique Frajacomo",
      "photoUrl": "https://lh3.googleusercontent.com/a-/AOh14GhQDFNhG11h9UJPe8Eg-KqmHhIL8k9af1i9FNc=s64",
      "userId": "15794806591433679473"
     },
     "user_tz": 180
    },
    "id": "41zoiSt4nxwq",
    "outputId": "cf7bbcbc-76fb-4ece-9430-cf7c62ef4508"
   },
   "outputs": [
    {
     "data": {
      "application/vnd.google.colaboratory.intrinsic+json": {
       "type": "string"
      },
      "text/plain": [
       "'s'"
      ]
     },
     "execution_count": 85,
     "metadata": {
      "tags": []
     },
     "output_type": "execute_result"
    }
   ],
   "source": [
    "human[-1]"
   ]
  },
  {
   "cell_type": "code",
   "execution_count": null,
   "metadata": {
    "colab": {
     "base_uri": "https://localhost:8080/",
     "height": 35
    },
    "executionInfo": {
     "elapsed": 1660,
     "status": "ok",
     "timestamp": 1599590200233,
     "user": {
      "displayName": "Henrique Frajacomo",
      "photoUrl": "https://lh3.googleusercontent.com/a-/AOh14GhQDFNhG11h9UJPe8Eg-KqmHhIL8k9af1i9FNc=s64",
      "userId": "15794806591433679473"
     },
     "user_tz": 180
    },
    "id": "iv0hhN9anxws",
    "outputId": "e90f652a-fe15-440f-a99d-baa7c7e03022"
   },
   "outputs": [
    {
     "data": {
      "application/vnd.google.colaboratory.intrinsic+json": {
       "type": "string"
      },
      "text/plain": [
       "'Homo s'"
      ]
     },
     "execution_count": 86,
     "metadata": {
      "tags": []
     },
     "output_type": "execute_result"
    }
   ],
   "source": [
    "human[:6]"
   ]
  },
  {
   "cell_type": "code",
   "execution_count": null,
   "metadata": {
    "colab": {
     "base_uri": "https://localhost:8080/",
     "height": 35
    },
    "executionInfo": {
     "elapsed": 1070,
     "status": "ok",
     "timestamp": 1599590239672,
     "user": {
      "displayName": "Henrique Frajacomo",
      "photoUrl": "https://lh3.googleusercontent.com/a-/AOh14GhQDFNhG11h9UJPe8Eg-KqmHhIL8k9af1i9FNc=s64",
      "userId": "15794806591433679473"
     },
     "user_tz": 180
    },
    "id": "vaNaO6Lvnxwu",
    "outputId": "a6a79e7b-25df-4ddc-dd86-0534dd4c7c0b"
   },
   "outputs": [
    {
     "data": {
      "application/vnd.google.colaboratory.intrinsic+json": {
       "type": "string"
      },
      "text/plain": [
       "'piens'"
      ]
     },
     "execution_count": 87,
     "metadata": {
      "tags": []
     },
     "output_type": "execute_result"
    }
   ],
   "source": [
    "human[7:]"
   ]
  },
  {
   "cell_type": "code",
   "execution_count": null,
   "metadata": {
    "colab": {
     "base_uri": "https://localhost:8080/",
     "height": 35
    },
    "executionInfo": {
     "elapsed": 1343,
     "status": "ok",
     "timestamp": 1599590444044,
     "user": {
      "displayName": "Henrique Frajacomo",
      "photoUrl": "https://lh3.googleusercontent.com/a-/AOh14GhQDFNhG11h9UJPe8Eg-KqmHhIL8k9af1i9FNc=s64",
      "userId": "15794806591433679473"
     },
     "user_tz": 180
    },
    "id": "2yHAkG3enxww",
    "outputId": "3bd3ffed-3b31-496e-ed7b-b87ba33bd67f"
   },
   "outputs": [
    {
     "data": {
      "application/vnd.google.colaboratory.intrinsic+json": {
       "type": "string"
      },
      "text/plain": [
       "'mo sa'"
      ]
     },
     "execution_count": 94,
     "metadata": {
      "tags": []
     },
     "output_type": "execute_result"
    }
   ],
   "source": [
    "human[2:7]"
   ]
  },
  {
   "cell_type": "code",
   "execution_count": null,
   "metadata": {
    "colab": {
     "base_uri": "https://localhost:8080/",
     "height": 35
    },
    "executionInfo": {
     "elapsed": 1364,
     "status": "ok",
     "timestamp": 1599590329888,
     "user": {
      "displayName": "Henrique Frajacomo",
      "photoUrl": "https://lh3.googleusercontent.com/a-/AOh14GhQDFNhG11h9UJPe8Eg-KqmHhIL8k9af1i9FNc=s64",
      "userId": "15794806591433679473"
     },
     "user_tz": 180
    },
    "id": "vIz5Y6OQnxwy",
    "outputId": "31254a95-6cbd-49e3-bdfb-050603f129d6"
   },
   "outputs": [
    {
     "data": {
      "application/vnd.google.colaboratory.intrinsic+json": {
       "type": "string"
      },
      "text/plain": [
       "'Hm ain'"
      ]
     },
     "execution_count": 89,
     "metadata": {
      "tags": []
     },
     "output_type": "execute_result"
    }
   ],
   "source": [
    "human[::2]"
   ]
  },
  {
   "cell_type": "markdown",
   "metadata": {
    "id": "2Aw1y3AAnxw0"
   },
   "source": [
    "An important information is that _strings_ in Python are immutable."
   ]
  },
  {
   "cell_type": "code",
   "execution_count": null,
   "metadata": {
    "colab": {
     "base_uri": "https://localhost:8080/",
     "height": 35
    },
    "executionInfo": {
     "elapsed": 888,
     "status": "ok",
     "timestamp": 1599590462892,
     "user": {
      "displayName": "Henrique Frajacomo",
      "photoUrl": "https://lh3.googleusercontent.com/a-/AOh14GhQDFNhG11h9UJPe8Eg-KqmHhIL8k9af1i9FNc=s64",
      "userId": "15794806591433679473"
     },
     "user_tz": 180
    },
    "id": "20CMweXInxw0",
    "outputId": "cea6298c-fb87-43c9-ccf5-a96b7f82db14"
   },
   "outputs": [
    {
     "data": {
      "application/vnd.google.colaboratory.intrinsic+json": {
       "type": "string"
      },
      "text/plain": [
       "'s'"
      ]
     },
     "execution_count": 95,
     "metadata": {
      "tags": []
     },
     "output_type": "execute_result"
    }
   ],
   "source": [
    "dog[4]"
   ]
  },
  {
   "cell_type": "code",
   "execution_count": null,
   "metadata": {
    "id": "0ocwA2cfnxw3",
    "scrolled": true
   },
   "outputs": [],
   "source": [
    "dog[4]='s'"
   ]
  },
  {
   "cell_type": "markdown",
   "metadata": {
    "id": "GXFYht54nxw6"
   },
   "source": [
    "We would have to create a new `string` containing the correct value or attribute a new value to the object `cao`."
   ]
  },
  {
   "cell_type": "markdown",
   "metadata": {
    "id": "SNmMPHoTnxw6"
   },
   "source": [
    "### 6.1.2 Other operators for strings and sequences\n",
    "\n",
    "Besides the _slice_ operator presented previously, many other operators can be used to manipulate strings and sequences. We can, for example, check if there is a character or number in a sequence, concatenate sequences, check if two sequences or part of them are equal.\n",
    "\n",
    "\n",
    "\n",
    "| Operation        | Operator        | Syntax            | Description        |\n",
    "|-----------------|-----------------|--------------------|------------------\n",
    "| \"In\"            | ```in```        | x ```in``` seq     | Verifies if `x` is in the sequence `seq`. Returns `True` in case it is and `False` otherwise|\n",
    "| \"Not in\"        | ```not in```    | x ```not in ``` seq | Inverse case of the \"In\" Operation.\n",
    "| Concatenation    | ```+```         | seq1 ```+``` seq2 | Concatenates two sequences _seq1_ and _seq2_. Return the result of the concatenation |\n",
    "| Multiplication   | ```*```         | seq * x          | Multiplies a sequence `seq`  `x` times (being `x` an integer number) | "
   ]
  },
  {
   "cell_type": "code",
   "execution_count": null,
   "metadata": {
    "id": "sXumioxNnxw6"
   },
   "outputs": [],
   "source": [
    "seq1 = 'atgcgatctagca'"
   ]
  },
  {
   "cell_type": "code",
   "execution_count": null,
   "metadata": {
    "id": "gFKRjnm0nxw8"
   },
   "outputs": [],
   "source": [
    "seq2 = 'tcgatcgagtgcata'"
   ]
  },
  {
   "cell_type": "markdown",
   "metadata": {
    "id": "SrhxBndBnxw-"
   },
   "source": [
    "_string_ concatenation"
   ]
  },
  {
   "cell_type": "code",
   "execution_count": null,
   "metadata": {
    "id": "FqRyvqRZnxxA"
   },
   "outputs": [],
   "source": [
    "seq_results = seq1 + seq2"
   ]
  },
  {
   "cell_type": "code",
   "execution_count": null,
   "metadata": {
    "colab": {
     "base_uri": "https://localhost:8080/",
     "height": 35
    },
    "executionInfo": {
     "elapsed": 1243,
     "status": "ok",
     "timestamp": 1599591125851,
     "user": {
      "displayName": "Henrique Frajacomo",
      "photoUrl": "https://lh3.googleusercontent.com/a-/AOh14GhQDFNhG11h9UJPe8Eg-KqmHhIL8k9af1i9FNc=s64",
      "userId": "15794806591433679473"
     },
     "user_tz": 180
    },
    "id": "0TDG0dIenxxB",
    "outputId": "a69db713-2753-4ba5-f734-f75a77589b5a"
   },
   "outputs": [
    {
     "data": {
      "application/vnd.google.colaboratory.intrinsic+json": {
       "type": "string"
      },
      "text/plain": [
       "'atgcgatctagcatcgatcgagtgcata'"
      ]
     },
     "execution_count": 101,
     "metadata": {
      "tags": []
     },
     "output_type": "execute_result"
    }
   ],
   "source": [
    "seq_results"
   ]
  },
  {
   "cell_type": "markdown",
   "metadata": {
    "id": "poIQP6h_mBWi"
   },
   "source": [
    "A common task in biology, is the search or minor sequences inside a DNA sequence.\n",
    "\n",
    "For example, we can search the pattern `atc` in a bigger sequence:"
   ]
  },
  {
   "cell_type": "code",
   "execution_count": null,
   "metadata": {
    "id": "VhQlBt6cnxxF"
   },
   "outputs": [],
   "source": [
    "seq_dna1 = 'atcatcatc'\n",
    "seq_dna2 = 'atc'"
   ]
  },
  {
   "cell_type": "code",
   "execution_count": null,
   "metadata": {
    "colab": {
     "base_uri": "https://localhost:8080/",
     "height": 34
    },
    "executionInfo": {
     "elapsed": 1363,
     "status": "ok",
     "timestamp": 1599591214415,
     "user": {
      "displayName": "Henrique Frajacomo",
      "photoUrl": "https://lh3.googleusercontent.com/a-/AOh14GhQDFNhG11h9UJPe8Eg-KqmHhIL8k9af1i9FNc=s64",
      "userId": "15794806591433679473"
     },
     "user_tz": 180
    },
    "id": "G4MIcyMonxxH",
    "outputId": "7dd5b56b-ce88-484e-cdfd-200fa803dc26"
   },
   "outputs": [
    {
     "name": "stdout",
     "output_type": "stream",
     "text": [
      "Achou!\n"
     ]
    }
   ],
   "source": [
    "if(seq_dna2 in seq_dna1):\n",
    "    print(\"Found!\")"
   ]
  },
  {
   "cell_type": "code",
   "execution_count": null,
   "metadata": {
    "id": "KU_65SZWnxxJ"
   },
   "outputs": [],
   "source": [
    "seq_dna3 = 'ggg'\n"
   ]
  },
  {
   "cell_type": "code",
   "execution_count": null,
   "metadata": {
    "colab": {
     "base_uri": "https://localhost:8080/",
     "height": 34
    },
    "executionInfo": {
     "elapsed": 1395,
     "status": "ok",
     "timestamp": 1599591282132,
     "user": {
      "displayName": "Henrique Frajacomo",
      "photoUrl": "https://lh3.googleusercontent.com/a-/AOh14GhQDFNhG11h9UJPe8Eg-KqmHhIL8k9af1i9FNc=s64",
      "userId": "15794806591433679473"
     },
     "user_tz": 180
    },
    "id": "67unvGcLnxxL",
    "outputId": "b30ea2d0-ae13-4a1a-9fb6-481648858b47"
   },
   "outputs": [
    {
     "name": "stdout",
     "output_type": "stream",
     "text": [
      "Não Achou!\n"
     ]
    }
   ],
   "source": [
    "if(seq_dna3 in seq_dna1):\n",
    "    print(\"Found!\")\n",
    "else:\n",
    "    print(\"Not Found!\")"
   ]
  },
  {
   "cell_type": "code",
   "execution_count": null,
   "metadata": {
    "colab": {
     "base_uri": "https://localhost:8080/",
     "height": 34
    },
    "executionInfo": {
     "elapsed": 2372,
     "status": "ok",
     "timestamp": 1599591295434,
     "user": {
      "displayName": "Henrique Frajacomo",
      "photoUrl": "https://lh3.googleusercontent.com/a-/AOh14GhQDFNhG11h9UJPe8Eg-KqmHhIL8k9af1i9FNc=s64",
      "userId": "15794806591433679473"
     },
     "user_tz": 180
    },
    "id": "HfelTq8xnxxS",
    "outputId": "b5cda070-e2bb-41a5-854f-d5d0f65e39d2"
   },
   "outputs": [
    {
     "name": "stdout",
     "output_type": "stream",
     "text": [
      "Não achou!\n"
     ]
    }
   ],
   "source": [
    "if(seq_dna3 in seq_dna1):\n",
    "    print(\"Found!\")\n",
    "else:\n",
    "    print(\"Not Found!\")"
   ]
  },
  {
   "cell_type": "markdown",
   "metadata": {
    "id": "NwgviyE-nxxU"
   },
   "source": [
    "_string_ multiplication"
   ]
  },
  {
   "cell_type": "code",
   "execution_count": null,
   "metadata": {
    "id": "eh7Pb8ulnxxT"
   },
   "outputs": [],
   "source": [
    "seq_1 = \"atcgatcga\""
   ]
  },
  {
   "cell_type": "code",
   "execution_count": null,
   "metadata": {
    "colab": {
     "base_uri": "https://localhost:8080/",
     "height": 35
    },
    "executionInfo": {
     "elapsed": 839,
     "status": "ok",
     "timestamp": 1599591318808,
     "user": {
      "displayName": "Henrique Frajacomo",
      "photoUrl": "https://lh3.googleusercontent.com/a-/AOh14GhQDFNhG11h9UJPe8Eg-KqmHhIL8k9af1i9FNc=s64",
      "userId": "15794806591433679473"
     },
     "user_tz": 180
    },
    "id": "W6NFv1CjnxxV",
    "outputId": "ca13233a-7498-478e-bf1e-b164db5bcdd4"
   },
   "outputs": [
    {
     "data": {
      "application/vnd.google.colaboratory.intrinsic+json": {
       "type": "string"
      },
      "text/plain": [
       "'atcgatcgaatcgatcgaatcgatcgaatcgatcgaatcgatcgaatcgatcgaatcgatcga'"
      ]
     },
     "execution_count": 109,
     "metadata": {
      "tags": []
     },
     "output_type": "execute_result"
    }
   ],
   "source": [
    "seq_1 * 7"
   ]
  },
  {
   "cell_type": "markdown",
   "metadata": {
    "id": "QPTS9CHCnxxj"
   },
   "source": [
    "#### Composition\n",
    "\n",
    "Can be used in cases where concatenating multiple _strings_ is not practical.\n",
    "\n",
    "For example, if we want to point out a value inside a bigger _string_."
   ]
  },
  {
   "cell_type": "code",
   "execution_count": null,
   "metadata": {
    "id": "s7pc0AIGnxxk"
   },
   "outputs": [],
   "source": [
    "user = \"Joao\""
   ]
  },
  {
   "cell_type": "code",
   "execution_count": null,
   "metadata": {
    "colab": {
     "base_uri": "https://localhost:8080/",
     "height": 35
    },
    "executionInfo": {
     "elapsed": 683,
     "status": "ok",
     "timestamp": 1612029392637,
     "user": {
      "displayName": "Henrique Frajacomo",
      "photoUrl": "https://lh3.googleusercontent.com/a-/AOh14GhQDFNhG11h9UJPe8Eg-KqmHhIL8k9af1i9FNc=s64",
      "userId": "15794806591433679473"
     },
     "user_tz": 180
    },
    "id": "Q7o3bkllnxxm",
    "outputId": "9a0604a2-e5d0-41de-dd71-d0633fb310be",
    "scrolled": true
   },
   "outputs": [
    {
     "data": {
      "application/vnd.google.colaboratory.intrinsic+json": {
       "type": "string"
      },
      "text/plain": [
       "'Joao, your DNA was sequenced today.'"
      ]
     },
     "execution_count": 3,
     "metadata": {
      "tags": []
     },
     "output_type": "execute_result"
    }
   ],
   "source": [
    "\"%s, your DNA was sequenced today.\" % user"
   ]
  },
  {
   "cell_type": "markdown",
   "metadata": {
    "id": "0k0H2d5wnxxo"
   },
   "source": [
    "The symbol `%s` is called 'position marker' and points to a substitution spot for the  _string_ (`Joao`).\n",
    "\n",
    "| Marker  | Type              |\n",
    "|-----------|-------------------|\n",
    "| %d        | Integer  |\n",
    "| %s        | Strings           |\n",
    "| %f        | Floats  |"
   ]
  },
  {
   "cell_type": "markdown",
   "metadata": {
    "id": "xP9HLiWCnxxo"
   },
   "source": [
    "### 6.1.3. Built-in methods for sequences\n",
    "\n",
    "Besides the basic operators, there are other methods that can be used to increase the range of applications of sequences:\n",
    "\n",
    "\n",
    "| Method          | Description                               |\n",
    "|-----------------|-----------------------------------------|\n",
    "| ```len(s)```    | Returns the size of sequence ```s```        |\n",
    "| ```min(s)```    | Returns the smallest element in the sequence ```s``` |\n",
    "| ```max(s)```    | Returns the biggest element in the sequence ```s``` |\n",
    "| ```s.index(x)```| Returns the index of the first occurence of ```x``` in ```s```|\n",
    "| ```s.count(x)```| Returns the number of occurences of ```x``` in ```s```|"
   ]
  },
  {
   "cell_type": "code",
   "execution_count": null,
   "metadata": {
    "colab": {
     "base_uri": "https://localhost:8080/",
     "height": 35
    },
    "executionInfo": {
     "elapsed": 576,
     "status": "ok",
     "timestamp": 1599591909538,
     "user": {
      "displayName": "Henrique Frajacomo",
      "photoUrl": "https://lh3.googleusercontent.com/a-/AOh14GhQDFNhG11h9UJPe8Eg-KqmHhIL8k9af1i9FNc=s64",
      "userId": "15794806591433679473"
     },
     "user_tz": 180
    },
    "id": "XgU4Al4Xnxxo",
    "outputId": "dd2a35c9-0044-4d11-8a41-766bfefb98a3"
   },
   "outputs": [
    {
     "data": {
      "application/vnd.google.colaboratory.intrinsic+json": {
       "type": "string"
      },
      "text/plain": [
       "'atgcgatctagcatcgatcgagtgcata'"
      ]
     },
     "execution_count": 112,
     "metadata": {
      "tags": []
     },
     "output_type": "execute_result"
    }
   ],
   "source": [
    "seq_results"
   ]
  },
  {
   "cell_type": "code",
   "execution_count": null,
   "metadata": {
    "colab": {
     "base_uri": "https://localhost:8080/",
     "height": 34
    },
    "executionInfo": {
     "elapsed": 1067,
     "status": "ok",
     "timestamp": 1599591913060,
     "user": {
      "displayName": "Henrique Frajacomo",
      "photoUrl": "https://lh3.googleusercontent.com/a-/AOh14GhQDFNhG11h9UJPe8Eg-KqmHhIL8k9af1i9FNc=s64",
      "userId": "15794806591433679473"
     },
     "user_tz": 180
    },
    "id": "tFz94Pranxxq",
    "outputId": "c7284d52-12f1-4ba6-e089-c376c56b861d"
   },
   "outputs": [
    {
     "data": {
      "text/plain": [
       "28"
      ]
     },
     "execution_count": 113,
     "metadata": {
      "tags": []
     },
     "output_type": "execute_result"
    }
   ],
   "source": [
    "len(seq_results)"
   ]
  },
  {
   "cell_type": "markdown",
   "metadata": {
    "id": "YLt-2eBynxxs"
   },
   "source": [
    "To count the number of adenines or thymines in your sequence, we can use the `count()` method:"
   ]
  },
  {
   "cell_type": "code",
   "execution_count": null,
   "metadata": {
    "colab": {
     "base_uri": "https://localhost:8080/",
     "height": 34
    },
    "executionInfo": {
     "elapsed": 808,
     "status": "ok",
     "timestamp": 1599591917798,
     "user": {
      "displayName": "Henrique Frajacomo",
      "photoUrl": "https://lh3.googleusercontent.com/a-/AOh14GhQDFNhG11h9UJPe8Eg-KqmHhIL8k9af1i9FNc=s64",
      "userId": "15794806591433679473"
     },
     "user_tz": 180
    },
    "id": "s7_IhRWpnxxt",
    "outputId": "7a77108e-ff1c-4e31-bb11-8adbda45547e"
   },
   "outputs": [
    {
     "data": {
      "text/plain": [
       "8"
      ]
     },
     "execution_count": 114,
     "metadata": {
      "tags": []
     },
     "output_type": "execute_result"
    }
   ],
   "source": [
    "seq_results.count('a')"
   ]
  },
  {
   "cell_type": "code",
   "execution_count": null,
   "metadata": {
    "colab": {
     "base_uri": "https://localhost:8080/",
     "height": 35
    },
    "executionInfo": {
     "elapsed": 848,
     "status": "ok",
     "timestamp": 1599591924298,
     "user": {
      "displayName": "Henrique Frajacomo",
      "photoUrl": "https://lh3.googleusercontent.com/a-/AOh14GhQDFNhG11h9UJPe8Eg-KqmHhIL8k9af1i9FNc=s64",
      "userId": "15794806591433679473"
     },
     "user_tz": 180
    },
    "id": "p_QVo86Cnxxw",
    "outputId": "41b800c7-d0c7-4d69-e08d-d3fa92dff381"
   },
   "outputs": [
    {
     "data": {
      "application/vnd.google.colaboratory.intrinsic+json": {
       "type": "string"
      },
      "text/plain": [
       "'a'"
      ]
     },
     "execution_count": 115,
     "metadata": {
      "tags": []
     },
     "output_type": "execute_result"
    }
   ],
   "source": [
    "min(seq_results)"
   ]
  },
  {
   "cell_type": "code",
   "execution_count": null,
   "metadata": {
    "colab": {
     "base_uri": "https://localhost:8080/",
     "height": 35
    },
    "executionInfo": {
     "elapsed": 922,
     "status": "ok",
     "timestamp": 1599591935627,
     "user": {
      "displayName": "Henrique Frajacomo",
      "photoUrl": "https://lh3.googleusercontent.com/a-/AOh14GhQDFNhG11h9UJPe8Eg-KqmHhIL8k9af1i9FNc=s64",
      "userId": "15794806591433679473"
     },
     "user_tz": 180
    },
    "id": "rfU-kdmgnxxy",
    "outputId": "faed7392-b1d3-4023-e87f-fd5c2113a343"
   },
   "outputs": [
    {
     "data": {
      "application/vnd.google.colaboratory.intrinsic+json": {
       "type": "string"
      },
      "text/plain": [
       "'t'"
      ]
     },
     "execution_count": 116,
     "metadata": {
      "tags": []
     },
     "output_type": "execute_result"
    }
   ],
   "source": [
    "max(seq_results)"
   ]
  },
  {
   "cell_type": "markdown",
   "metadata": {
    "id": "TatcNe1nnxx1"
   },
   "source": [
    "### 6.1.4 Methods for _strings_\n",
    "\n",
    "_strings_, have the sequence methods, but they also have the specific _string_ methods. \n",
    "\n",
    "The most used examples are:\n",
    "\n",
    "| Method                             | Description\n",
    "|------------------------------------|----------------------------------------------------------------------------------|\n",
    "| ```s.title()```                    | Returns a copy of _string_ with all it's words starting with capital letters | \n",
    "| ```s.lower()```                    | Returns a copy of _string_ with all it's characters lowercase                 | \n",
    "| ```s.upper()```                    | Returns a copy of _string_ with all it's characters uppercase                |\n",
    "| ```s.replace(old_s, new_s)```      | Returns a copy of _string_ with all the occurences of ```old_s``` substituted by ```new_s``` |\n",
    "| ```s.split(sep)```                 | Returns a list of _strings_ having ```sep``` as the delimiter     |"
   ]
  },
  {
   "cell_type": "code",
   "execution_count": null,
   "metadata": {
    "id": "p4GxXC1Enxx1"
   },
   "outputs": [],
   "source": [
    "butterfly = 'Danaus plexippus'"
   ]
  },
  {
   "cell_type": "code",
   "execution_count": null,
   "metadata": {
    "colab": {
     "base_uri": "https://localhost:8080/",
     "height": 35
    },
    "executionInfo": {
     "elapsed": 922,
     "status": "ok",
     "timestamp": 1599592108766,
     "user": {
      "displayName": "Henrique Frajacomo",
      "photoUrl": "https://lh3.googleusercontent.com/a-/AOh14GhQDFNhG11h9UJPe8Eg-KqmHhIL8k9af1i9FNc=s64",
      "userId": "15794806591433679473"
     },
     "user_tz": 180
    },
    "id": "9a9vuIuPnxx3",
    "outputId": "1c10f93d-576a-4467-9953-0caf78912d5a"
   },
   "outputs": [
    {
     "data": {
      "application/vnd.google.colaboratory.intrinsic+json": {
       "type": "string"
      },
      "text/plain": [
       "'Danaus Plexippus'"
      ]
     },
     "execution_count": 118,
     "metadata": {
      "tags": []
     },
     "output_type": "execute_result"
    }
   ],
   "source": [
    "butterfly.title()"
   ]
  },
  {
   "cell_type": "code",
   "execution_count": null,
   "metadata": {
    "colab": {
     "base_uri": "https://localhost:8080/",
     "height": 35
    },
    "executionInfo": {
     "elapsed": 991,
     "status": "ok",
     "timestamp": 1599592116467,
     "user": {
      "displayName": "Henrique Frajacomo",
      "photoUrl": "https://lh3.googleusercontent.com/a-/AOh14GhQDFNhG11h9UJPe8Eg-KqmHhIL8k9af1i9FNc=s64",
      "userId": "15794806591433679473"
     },
     "user_tz": 180
    },
    "id": "vooDnerpnxx5",
    "outputId": "924e394e-edd5-4a02-93d6-c97016cd0755"
   },
   "outputs": [
    {
     "data": {
      "application/vnd.google.colaboratory.intrinsic+json": {
       "type": "string"
      },
      "text/plain": [
       "'danaus plexippus'"
      ]
     },
     "execution_count": 119,
     "metadata": {
      "tags": []
     },
     "output_type": "execute_result"
    }
   ],
   "source": [
    "butterfly.lower()"
   ]
  },
  {
   "cell_type": "code",
   "execution_count": null,
   "metadata": {
    "colab": {
     "base_uri": "https://localhost:8080/",
     "height": 35
    },
    "executionInfo": {
     "elapsed": 1055,
     "status": "ok",
     "timestamp": 1599592120514,
     "user": {
      "displayName": "Henrique Frajacomo",
      "photoUrl": "https://lh3.googleusercontent.com/a-/AOh14GhQDFNhG11h9UJPe8Eg-KqmHhIL8k9af1i9FNc=s64",
      "userId": "15794806591433679473"
     },
     "user_tz": 180
    },
    "id": "0zvKOQJYnxx6",
    "outputId": "720386ec-ba61-47e1-afb6-9ec4e129444f"
   },
   "outputs": [
    {
     "data": {
      "application/vnd.google.colaboratory.intrinsic+json": {
       "type": "string"
      },
      "text/plain": [
       "'DANAUS PLEXIPPUS'"
      ]
     },
     "execution_count": 120,
     "metadata": {
      "tags": []
     },
     "output_type": "execute_result"
    }
   ],
   "source": [
    "butterfly.upper()"
   ]
  },
  {
   "cell_type": "code",
   "execution_count": null,
   "metadata": {
    "colab": {
     "base_uri": "https://localhost:8080/",
     "height": 35
    },
    "executionInfo": {
     "elapsed": 1342,
     "status": "ok",
     "timestamp": 1599592153232,
     "user": {
      "displayName": "Henrique Frajacomo",
      "photoUrl": "https://lh3.googleusercontent.com/a-/AOh14GhQDFNhG11h9UJPe8Eg-KqmHhIL8k9af1i9FNc=s64",
      "userId": "15794806591433679473"
     },
     "user_tz": 180
    },
    "id": "D9uaH0vJnxx8",
    "outputId": "4f94c4bd-da49-4e02-f782-77f7b865a751"
   },
   "outputs": [
    {
     "data": {
      "application/vnd.google.colaboratory.intrinsic+json": {
       "type": "string"
      },
      "text/plain": [
       "'Danaus chrysippus'"
      ]
     },
     "execution_count": 121,
     "metadata": {
      "tags": []
     },
     "output_type": "execute_result"
    }
   ],
   "source": [
    "butterfly.replace('plexippus', 'chrysippus')"
   ]
  },
  {
   "cell_type": "code",
   "execution_count": null,
   "metadata": {
    "colab": {
     "base_uri": "https://localhost:8080/",
     "height": 34
    },
    "executionInfo": {
     "elapsed": 1854,
     "status": "ok",
     "timestamp": 1599592629225,
     "user": {
      "displayName": "Henrique Frajacomo",
      "photoUrl": "https://lh3.googleusercontent.com/a-/AOh14GhQDFNhG11h9UJPe8Eg-KqmHhIL8k9af1i9FNc=s64",
      "userId": "15794806591433679473"
     },
     "user_tz": 180
    },
    "id": "cP1Xv7RFnxx_",
    "outputId": "25e2d17e-9fc7-4ab4-a2c1-004ea3bbb1e0"
   },
   "outputs": [
    {
     "data": {
      "text/plain": [
       "['Danaus', 'plexippus']"
      ]
     },
     "execution_count": 130,
     "metadata": {
      "tags": []
     },
     "output_type": "execute_result"
    }
   ],
   "source": [
    "butterfly.split()"
   ]
  },
  {
   "cell_type": "markdown",
   "metadata": {
    "id": "wDWHkgKKnxyE"
   },
   "source": [
    "## 6.2. Lists\n",
    "\n",
    "A **list** is an ordered collection of data of any **type**, with no fixed length and mutable (can be modified). You can store a **list** of data of the integer type, float type, strings or even other lists!\n",
    "\n",
    "Thanks to this feature, the lists are one of the most versatile structures in Python and one can use many of the functions already presented for strings."
   ]
  },
  {
   "cell_type": "code",
   "execution_count": null,
   "metadata": {
    "colab": {
     "base_uri": "https://localhost:8080/",
     "height": 119
    },
    "executionInfo": {
     "elapsed": 1341,
     "status": "ok",
     "timestamp": 1599592707733,
     "user": {
      "displayName": "Henrique Frajacomo",
      "photoUrl": "https://lh3.googleusercontent.com/a-/AOh14GhQDFNhG11h9UJPe8Eg-KqmHhIL8k9af1i9FNc=s64",
      "userId": "15794806591433679473"
     },
     "user_tz": 180
    },
    "id": "P23ehUo6nxyE",
    "outputId": "93f3ccdc-e000-439d-d18c-7719f658a45d"
   },
   "outputs": [
    {
     "data": {
      "text/plain": [
       "['Danaus affinis',\n",
       " 'Danaus chrysippus',\n",
       " 'Danaus eresimus',\n",
       " 23,\n",
       " 6.93,\n",
       " ['Python', 2017, 2018]]"
      ]
     },
     "execution_count": 131,
     "metadata": {
      "tags": []
     },
     "output_type": "execute_result"
    }
   ],
   "source": [
    "lista = ['Danaus affinis', 'Danaus chrysippus', 'Danaus eresimus', 23, 6.93, ['Python', 2017, 2018]]\n",
    "lista"
   ]
  },
  {
   "cell_type": "code",
   "execution_count": null,
   "metadata": {
    "colab": {
     "base_uri": "https://localhost:8080/",
     "height": 34
    },
    "executionInfo": {
     "elapsed": 1626,
     "status": "ok",
     "timestamp": 1599592732874,
     "user": {
      "displayName": "Henrique Frajacomo",
      "photoUrl": "https://lh3.googleusercontent.com/a-/AOh14GhQDFNhG11h9UJPe8Eg-KqmHhIL8k9af1i9FNc=s64",
      "userId": "15794806591433679473"
     },
     "user_tz": 180
    },
    "id": "ARq16RnknxyG",
    "outputId": "1e8424fd-9616-4c05-98f8-29bfcbcf51ab"
   },
   "outputs": [
    {
     "data": {
      "text/plain": [
       "6"
      ]
     },
     "execution_count": 132,
     "metadata": {
      "tags": []
     },
     "output_type": "execute_result"
    }
   ],
   "source": [
    "len(lista)"
   ]
  },
  {
   "cell_type": "code",
   "execution_count": null,
   "metadata": {
    "colab": {
     "base_uri": "https://localhost:8080/",
     "height": 35
    },
    "executionInfo": {
     "elapsed": 892,
     "status": "ok",
     "timestamp": 1599592740997,
     "user": {
      "displayName": "Henrique Frajacomo",
      "photoUrl": "https://lh3.googleusercontent.com/a-/AOh14GhQDFNhG11h9UJPe8Eg-KqmHhIL8k9af1i9FNc=s64",
      "userId": "15794806591433679473"
     },
     "user_tz": 180
    },
    "id": "LPdOiZ2-nxyI",
    "outputId": "cd12f4cf-8f8e-4b6e-aca4-bd1a6f5c01d8"
   },
   "outputs": [
    {
     "data": {
      "application/vnd.google.colaboratory.intrinsic+json": {
       "type": "string"
      },
      "text/plain": [
       "'Danaus chrysippus'"
      ]
     },
     "execution_count": 133,
     "metadata": {
      "tags": []
     },
     "output_type": "execute_result"
    }
   ],
   "source": [
    "lista[1]"
   ]
  },
  {
   "cell_type": "code",
   "execution_count": null,
   "metadata": {
    "colab": {
     "base_uri": "https://localhost:8080/",
     "height": 34
    },
    "executionInfo": {
     "elapsed": 569,
     "status": "ok",
     "timestamp": 1599592748834,
     "user": {
      "displayName": "Henrique Frajacomo",
      "photoUrl": "https://lh3.googleusercontent.com/a-/AOh14GhQDFNhG11h9UJPe8Eg-KqmHhIL8k9af1i9FNc=s64",
      "userId": "15794806591433679473"
     },
     "user_tz": 180
    },
    "id": "lQIUmhwQnxyJ",
    "outputId": "4dff343f-1306-4582-d346-e32f961abcbb"
   },
   "outputs": [
    {
     "data": {
      "text/plain": [
       "['Python', 2017, 2018]"
      ]
     },
     "execution_count": 134,
     "metadata": {
      "tags": []
     },
     "output_type": "execute_result"
    }
   ],
   "source": [
    "lista[-1]"
   ]
  },
  {
   "cell_type": "code",
   "execution_count": null,
   "metadata": {
    "colab": {
     "base_uri": "https://localhost:8080/",
     "height": 34
    },
    "executionInfo": {
     "elapsed": 895,
     "status": "ok",
     "timestamp": 1599592764642,
     "user": {
      "displayName": "Henrique Frajacomo",
      "photoUrl": "https://lh3.googleusercontent.com/a-/AOh14GhQDFNhG11h9UJPe8Eg-KqmHhIL8k9af1i9FNc=s64",
      "userId": "15794806591433679473"
     },
     "user_tz": 180
    },
    "id": "-uAR5zi7nxyL",
    "outputId": "cef282e7-2132-469e-a718-10d713f7071d"
   },
   "outputs": [
    {
     "data": {
      "text/plain": [
       "['Danaus chrysippus', 'Danaus eresimus']"
      ]
     },
     "execution_count": 135,
     "metadata": {
      "tags": []
     },
     "output_type": "execute_result"
    }
   ],
   "source": [
    "lista[1:3]"
   ]
  },
  {
   "cell_type": "code",
   "execution_count": null,
   "metadata": {
    "colab": {
     "base_uri": "https://localhost:8080/",
     "height": 34
    },
    "executionInfo": {
     "elapsed": 940,
     "status": "ok",
     "timestamp": 1599592772801,
     "user": {
      "displayName": "Henrique Frajacomo",
      "photoUrl": "https://lh3.googleusercontent.com/a-/AOh14GhQDFNhG11h9UJPe8Eg-KqmHhIL8k9af1i9FNc=s64",
      "userId": "15794806591433679473"
     },
     "user_tz": 180
    },
    "id": "GummHjT_nxyM",
    "outputId": "3e200e66-797c-45bd-c8c5-4264ec950b98"
   },
   "outputs": [
    {
     "data": {
      "text/plain": [
       "[23, 6.93]"
      ]
     },
     "execution_count": 136,
     "metadata": {
      "tags": []
     },
     "output_type": "execute_result"
    }
   ],
   "source": [
    "lista[3:-1]"
   ]
  },
  {
   "cell_type": "code",
   "execution_count": null,
   "metadata": {
    "colab": {
     "base_uri": "https://localhost:8080/",
     "height": 119
    },
    "executionInfo": {
     "elapsed": 5593,
     "status": "ok",
     "timestamp": 1599592785131,
     "user": {
      "displayName": "Henrique Frajacomo",
      "photoUrl": "https://lh3.googleusercontent.com/a-/AOh14GhQDFNhG11h9UJPe8Eg-KqmHhIL8k9af1i9FNc=s64",
      "userId": "15794806591433679473"
     },
     "user_tz": 180
    },
    "id": "3POqaTZxnxyP",
    "outputId": "b1f6633e-3d29-4eda-d341-5c6d6908ffb7"
   },
   "outputs": [
    {
     "data": {
      "text/plain": [
       "['Danaus affinis',\n",
       " 'Danaus chrysippus',\n",
       " 'Danaus eresimus',\n",
       " 23,\n",
       " 6.93,\n",
       " 'Danaus plexippus']"
      ]
     },
     "execution_count": 137,
     "metadata": {
      "tags": []
     },
     "output_type": "execute_result"
    }
   ],
   "source": [
    "lista[-1] = \"Danaus plexippus\"\n",
    "lista"
   ]
  },
  {
   "cell_type": "markdown",
   "metadata": {
    "id": "SBxXhGc4nxyQ"
   },
   "source": [
    "### 6.2.1 Frequently used methods in Lists\n",
    "\n",
    "Lists are a very common structure (if not the most common) in Python for various applications. Logically, many methods also are used to complement their power. \n",
    "\n",
    "The table below presents the most common methods used when working with lists.\n",
    "\n",
    "| Method                             | Description\n",
    "|------------------------------------|--------------------------------------------------------------------------|\n",
    "| ```l.append(x)```                  | Concatenates the element ```x``` in the list ```l```                            | \n",
    "| ```l.insert(i, x)```               | Inserts the element ```x``` in the index ```i``` of the list ```l```             | \n",
    "| ```l.pop(i)```                     | Removes the element of the list ```l``` that is found in the index ```i``` and returns it. If pop() doesn't find the index, the last element of ```l``` is removed |\n",
    "| ```l.remove(x)```                  | Removes the element ```x``` of the list ```l``` |\n",
    "| ```l.extend(l2)```                 | Extends the list ```l``` with the list ```l2```     |\n",
    "| ```l.sort()```                     | Sorts the list ```l``` in ascending order |\n",
    "| ```l.count(x)```                   | Counts the amount of occurences of ```x``` in the list ```l``` |  "
   ]
  },
  {
   "cell_type": "code",
   "execution_count": null,
   "metadata": {
    "colab": {
     "base_uri": "https://localhost:8080/",
     "height": 34
    },
    "executionInfo": {
     "elapsed": 874,
     "status": "ok",
     "timestamp": 1599593003623,
     "user": {
      "displayName": "Henrique Frajacomo",
      "photoUrl": "https://lh3.googleusercontent.com/a-/AOh14GhQDFNhG11h9UJPe8Eg-KqmHhIL8k9af1i9FNc=s64",
      "userId": "15794806591433679473"
     },
     "user_tz": 180
    },
    "id": "QyIlh4bLnxyR",
    "outputId": "a3fd28a1-41b8-4dad-c61d-27235edc8a73"
   },
   "outputs": [
    {
     "data": {
      "text/plain": [
       "['Danaus affinis', 'Danaus chrysippus']"
      ]
     },
     "execution_count": 138,
     "metadata": {
      "tags": []
     },
     "output_type": "execute_result"
    }
   ],
   "source": [
    "butterflies = ['Danaus affinis', 'Danaus chrysippus']\n",
    "butterflies"
   ]
  },
  {
   "cell_type": "code",
   "execution_count": null,
   "metadata": {
    "colab": {
     "base_uri": "https://localhost:8080/",
     "height": 34
    },
    "executionInfo": {
     "elapsed": 1134,
     "status": "ok",
     "timestamp": 1599593013153,
     "user": {
      "displayName": "Henrique Frajacomo",
      "photoUrl": "https://lh3.googleusercontent.com/a-/AOh14GhQDFNhG11h9UJPe8Eg-KqmHhIL8k9af1i9FNc=s64",
      "userId": "15794806591433679473"
     },
     "user_tz": 180
    },
    "id": "GmS5dYujnxyT",
    "outputId": "79ff8573-5c5d-404c-873b-2cc414afb409"
   },
   "outputs": [
    {
     "data": {
      "text/plain": [
       "['Danaus affinis', 'Danaus chrysippus', 'Danaus eresimus']"
      ]
     },
     "execution_count": 139,
     "metadata": {
      "tags": []
     },
     "output_type": "execute_result"
    }
   ],
   "source": [
    "butterflies.append('Danaus eresimus')\n",
    "butterflies"
   ]
  },
  {
   "cell_type": "code",
   "execution_count": null,
   "metadata": {
    "colab": {
     "base_uri": "https://localhost:8080/",
     "height": 34
    },
    "executionInfo": {
     "elapsed": 822,
     "status": "ok",
     "timestamp": 1599593025434,
     "user": {
      "displayName": "Henrique Frajacomo",
      "photoUrl": "https://lh3.googleusercontent.com/a-/AOh14GhQDFNhG11h9UJPe8Eg-KqmHhIL8k9af1i9FNc=s64",
      "userId": "15794806591433679473"
     },
     "user_tz": 180
    },
    "id": "FV8BnBv8nxyU",
    "outputId": "43354710-5a10-424a-edf8-625a939b0645"
   },
   "outputs": [
    {
     "data": {
      "text/plain": [
       "['Morpho Menelaus', 'Danaus affinis', 'Danaus chrysippus', 'Danaus eresimus']"
      ]
     },
     "execution_count": 140,
     "metadata": {
      "tags": []
     },
     "output_type": "execute_result"
    }
   ],
   "source": [
    "butterflies.insert(0,'Morpho Menelaus')\n",
    "butterflies"
   ]
  },
  {
   "cell_type": "code",
   "execution_count": null,
   "metadata": {
    "colab": {
     "base_uri": "https://localhost:8080/",
     "height": 35
    },
    "executionInfo": {
     "elapsed": 868,
     "status": "ok",
     "timestamp": 1599593039836,
     "user": {
      "displayName": "Henrique Frajacomo",
      "photoUrl": "https://lh3.googleusercontent.com/a-/AOh14GhQDFNhG11h9UJPe8Eg-KqmHhIL8k9af1i9FNc=s64",
      "userId": "15794806591433679473"
     },
     "user_tz": 180
    },
    "id": "_IkgH9YbnxyW",
    "outputId": "cab4f935-dd62-4de2-b5ed-56d4533c4817"
   },
   "outputs": [
    {
     "data": {
      "application/vnd.google.colaboratory.intrinsic+json": {
       "type": "string"
      },
      "text/plain": [
       "'Danaus eresimus'"
      ]
     },
     "execution_count": 141,
     "metadata": {
      "tags": []
     },
     "output_type": "execute_result"
    }
   ],
   "source": [
    "x = butterflies.pop()\n",
    "x"
   ]
  },
  {
   "cell_type": "code",
   "execution_count": null,
   "metadata": {
    "colab": {
     "base_uri": "https://localhost:8080/",
     "height": 34
    },
    "executionInfo": {
     "elapsed": 844,
     "status": "ok",
     "timestamp": 1599593068850,
     "user": {
      "displayName": "Henrique Frajacomo",
      "photoUrl": "https://lh3.googleusercontent.com/a-/AOh14GhQDFNhG11h9UJPe8Eg-KqmHhIL8k9af1i9FNc=s64",
      "userId": "15794806591433679473"
     },
     "user_tz": 180
    },
    "id": "ORmvxFIxnxyX",
    "outputId": "85fb6341-b9b3-4998-83ca-41bd4435c4ad"
   },
   "outputs": [
    {
     "data": {
      "text/plain": [
       "['Morpho Menelaus', 'Danaus chrysippus']"
      ]
     },
     "execution_count": 142,
     "metadata": {
      "tags": []
     },
     "output_type": "execute_result"
    }
   ],
   "source": [
    "butterflies.remove('Danaus affinis')\n",
    "butterflies"
   ]
  },
  {
   "cell_type": "code",
   "execution_count": null,
   "metadata": {
    "colab": {
     "base_uri": "https://localhost:8080/",
     "height": 34
    },
    "executionInfo": {
     "elapsed": 1435,
     "status": "ok",
     "timestamp": 1599593098993,
     "user": {
      "displayName": "Henrique Frajacomo",
      "photoUrl": "https://lh3.googleusercontent.com/a-/AOh14GhQDFNhG11h9UJPe8Eg-KqmHhIL8k9af1i9FNc=s64",
      "userId": "15794806591433679473"
     },
     "user_tz": 180
    },
    "id": "_2X3I0K7nxyZ",
    "outputId": "526a01ff-b294-402d-e75f-c58cdfa4bc1d"
   },
   "outputs": [
    {
     "data": {
      "text/plain": [
       "['Morpho Menelaus', 'Danaus chrysippus', 'Danaus affinis', 'Danaus eresimus']"
      ]
     },
     "execution_count": 143,
     "metadata": {
      "tags": []
     },
     "output_type": "execute_result"
    }
   ],
   "source": [
    "butterflies.extend(['Danaus affinis', 'Danaus eresimus'])\n",
    "butterflies"
   ]
  },
  {
   "cell_type": "code",
   "execution_count": null,
   "metadata": {
    "colab": {
     "base_uri": "https://localhost:8080/",
     "height": 34
    },
    "executionInfo": {
     "elapsed": 1065,
     "status": "ok",
     "timestamp": 1599593112613,
     "user": {
      "displayName": "Henrique Frajacomo",
      "photoUrl": "https://lh3.googleusercontent.com/a-/AOh14GhQDFNhG11h9UJPe8Eg-KqmHhIL8k9af1i9FNc=s64",
      "userId": "15794806591433679473"
     },
     "user_tz": 180
    },
    "id": "IhLHPfjFnxyb",
    "outputId": "030b819e-3ebe-448a-eaf1-6c348268b8db"
   },
   "outputs": [
    {
     "data": {
      "text/plain": [
       "['Danaus affinis', 'Danaus chrysippus', 'Danaus eresimus', 'Morpho Menelaus']"
      ]
     },
     "execution_count": 144,
     "metadata": {
      "tags": []
     },
     "output_type": "execute_result"
    }
   ],
   "source": [
    "butterflies.sort()\n",
    "butterflies"
   ]
  },
  {
   "cell_type": "code",
   "execution_count": null,
   "metadata": {
    "colab": {
     "base_uri": "https://localhost:8080/",
     "height": 34
    },
    "executionInfo": {
     "elapsed": 889,
     "status": "ok",
     "timestamp": 1599593130815,
     "user": {
      "displayName": "Henrique Frajacomo",
      "photoUrl": "https://lh3.googleusercontent.com/a-/AOh14GhQDFNhG11h9UJPe8Eg-KqmHhIL8k9af1i9FNc=s64",
      "userId": "15794806591433679473"
     },
     "user_tz": 180
    },
    "id": "eWifsqF9nxyc",
    "outputId": "3e742903-bc4e-4984-d2a0-aae2d9ee42ce"
   },
   "outputs": [
    {
     "data": {
      "text/plain": [
       "0"
      ]
     },
     "execution_count": 145,
     "metadata": {
      "tags": []
     },
     "output_type": "execute_result"
    }
   ],
   "source": [
    "butterflies.count('Danaus')"
   ]
  },
  {
   "cell_type": "code",
   "execution_count": null,
   "metadata": {
    "colab": {
     "base_uri": "https://localhost:8080/",
     "height": 34
    },
    "executionInfo": {
     "elapsed": 1178,
     "status": "ok",
     "timestamp": 1599593168681,
     "user": {
      "displayName": "Henrique Frajacomo",
      "photoUrl": "https://lh3.googleusercontent.com/a-/AOh14GhQDFNhG11h9UJPe8Eg-KqmHhIL8k9af1i9FNc=s64",
      "userId": "15794806591433679473"
     },
     "user_tz": 180
    },
    "id": "-SYhOLzBnxyd",
    "outputId": "8b533d25-9d14-419b-f580-2d0d34c9788b"
   },
   "outputs": [
    {
     "data": {
      "text/plain": [
       "1"
      ]
     },
     "execution_count": 146,
     "metadata": {
      "tags": []
     },
     "output_type": "execute_result"
    }
   ],
   "source": [
    "butterflies.count('Danaus affinis')"
   ]
  },
  {
   "cell_type": "markdown",
   "metadata": {
    "id": "a4NJnOcknxyg"
   },
   "source": [
    "### 6.2.2. Simples Statistics in Lists\n",
    "\n",
    "It's also possible to find some basic statistic functions inside lists using some built-in methods of Lists in Python."
   ]
  },
  {
   "cell_type": "code",
   "execution_count": null,
   "metadata": {
    "id": "5L11aX3Mnxyg"
   },
   "outputs": [],
   "source": [
    "even = [0, 1, 2, 3, 4, 5, 6, 7, 8, 9, 10]"
   ]
  },
  {
   "cell_type": "code",
   "execution_count": null,
   "metadata": {
    "colab": {
     "base_uri": "https://localhost:8080/",
     "height": 34
    },
    "executionInfo": {
     "elapsed": 859,
     "status": "ok",
     "timestamp": 1599593381633,
     "user": {
      "displayName": "Henrique Frajacomo",
      "photoUrl": "https://lh3.googleusercontent.com/a-/AOh14GhQDFNhG11h9UJPe8Eg-KqmHhIL8k9af1i9FNc=s64",
      "userId": "15794806591433679473"
     },
     "user_tz": 180
    },
    "id": "G_RLZPZonxyi",
    "outputId": "ae396bda-ffca-47ad-fe6c-4c9f54a8cbb7"
   },
   "outputs": [
    {
     "data": {
      "text/plain": [
       "10"
      ]
     },
     "execution_count": 148,
     "metadata": {
      "tags": []
     },
     "output_type": "execute_result"
    }
   ],
   "source": [
    "max(pares)"
   ]
  },
  {
   "cell_type": "code",
   "execution_count": null,
   "metadata": {
    "colab": {
     "base_uri": "https://localhost:8080/",
     "height": 34
    },
    "executionInfo": {
     "elapsed": 856,
     "status": "ok",
     "timestamp": 1599593384826,
     "user": {
      "displayName": "Henrique Frajacomo",
      "photoUrl": "https://lh3.googleusercontent.com/a-/AOh14GhQDFNhG11h9UJPe8Eg-KqmHhIL8k9af1i9FNc=s64",
      "userId": "15794806591433679473"
     },
     "user_tz": 180
    },
    "id": "mAVLKHjenxyk",
    "outputId": "95aa4777-86da-46a0-d9a5-3cfbe0395db7"
   },
   "outputs": [
    {
     "data": {
      "text/plain": [
       "0"
      ]
     },
     "execution_count": 149,
     "metadata": {
      "tags": []
     },
     "output_type": "execute_result"
    }
   ],
   "source": [
    "min(pares)"
   ]
  },
  {
   "cell_type": "code",
   "execution_count": null,
   "metadata": {
    "colab": {
     "base_uri": "https://localhost:8080/",
     "height": 34
    },
    "executionInfo": {
     "elapsed": 986,
     "status": "ok",
     "timestamp": 1599593389236,
     "user": {
      "displayName": "Henrique Frajacomo",
      "photoUrl": "https://lh3.googleusercontent.com/a-/AOh14GhQDFNhG11h9UJPe8Eg-KqmHhIL8k9af1i9FNc=s64",
      "userId": "15794806591433679473"
     },
     "user_tz": 180
    },
    "id": "X65Qppfqnxyl",
    "outputId": "6ebef26d-f7ae-492d-8101-82f0bd228f03"
   },
   "outputs": [
    {
     "data": {
      "text/plain": [
       "55"
      ]
     },
     "execution_count": 150,
     "metadata": {
      "tags": []
     },
     "output_type": "execute_result"
    }
   ],
   "source": [
    "sum(pares)"
   ]
  },
  {
   "cell_type": "markdown",
   "metadata": {
    "id": "Yb6NoO8Unxyn"
   },
   "source": [
    "## 7. Dictionaries\n",
    "\n",
    "Dictionaries are collections of the “_mapping_” type, that is, ```<key:value>``` relationships. Those are collections organized by **keys** where, for every **key** there's an associated value. Elements in a dictionary are accessed via a **key** and not by index, as it happens in sequences.\n",
    "\n",
    "Dictionaries are also mutable, just like lists."
   ]
  },
  {
   "cell_type": "code",
   "execution_count": null,
   "metadata": {
    "colab": {
     "base_uri": "https://localhost:8080/",
     "height": 34
    },
    "executionInfo": {
     "elapsed": 868,
     "status": "ok",
     "timestamp": 1599593502049,
     "user": {
      "displayName": "Henrique Frajacomo",
      "photoUrl": "https://lh3.googleusercontent.com/a-/AOh14GhQDFNhG11h9UJPe8Eg-KqmHhIL8k9af1i9FNc=s64",
      "userId": "15794806591433679473"
     },
     "user_tz": 180
    },
    "id": "WLwa1owRnxyn",
    "outputId": "3f0324e5-5ff8-4e62-f90a-4b2728b4c737"
   },
   "outputs": [
    {
     "data": {
      "text/plain": [
       "{'A': 'Adenina', 'C': 'Citosina', 'G': 'Guanina', 'T': 'Timina'}"
      ]
     },
     "execution_count": 151,
     "metadata": {
      "tags": []
     },
     "output_type": "execute_result"
    }
   ],
   "source": [
    "bases = {'A':'Adenine', 'T':'Thymine', 'C':'Cytosine', 'G':'Guanine'}\n",
    "bases"
   ]
  },
  {
   "cell_type": "code",
   "execution_count": null,
   "metadata": {
    "colab": {
     "base_uri": "https://localhost:8080/",
     "height": 35
    },
    "executionInfo": {
     "elapsed": 580,
     "status": "ok",
     "timestamp": 1599593524996,
     "user": {
      "displayName": "Henrique Frajacomo",
      "photoUrl": "https://lh3.googleusercontent.com/a-/AOh14GhQDFNhG11h9UJPe8Eg-KqmHhIL8k9af1i9FNc=s64",
      "userId": "15794806591433679473"
     },
     "user_tz": 180
    },
    "id": "og64-RGJnxyp",
    "outputId": "bfc30d5c-fc06-48d5-da23-98df4d48e3e9"
   },
   "outputs": [
    {
     "data": {
      "application/vnd.google.colaboratory.intrinsic+json": {
       "type": "string"
      },
      "text/plain": [
       "'Guanina'"
      ]
     },
     "execution_count": 152,
     "metadata": {
      "tags": []
     },
     "output_type": "execute_result"
    }
   ],
   "source": [
    "bases['G']"
   ]
  },
  {
   "cell_type": "code",
   "execution_count": null,
   "metadata": {
    "colab": {
     "base_uri": "https://localhost:8080/",
     "height": 34
    },
    "executionInfo": {
     "elapsed": 1161,
     "status": "ok",
     "timestamp": 1599593532662,
     "user": {
      "displayName": "Henrique Frajacomo",
      "photoUrl": "https://lh3.googleusercontent.com/a-/AOh14GhQDFNhG11h9UJPe8Eg-KqmHhIL8k9af1i9FNc=s64",
      "userId": "15794806591433679473"
     },
     "user_tz": 180
    },
    "id": "yiZ8sRP3nxyr",
    "outputId": "0f572fb8-167a-48d3-f559-3ea91814cf07"
   },
   "outputs": [
    {
     "data": {
      "text/plain": [
       "dict_keys(['A', 'T', 'C', 'G'])"
      ]
     },
     "execution_count": 153,
     "metadata": {
      "tags": []
     },
     "output_type": "execute_result"
    }
   ],
   "source": [
    "bases.keys()"
   ]
  },
  {
   "cell_type": "code",
   "execution_count": null,
   "metadata": {
    "colab": {
     "base_uri": "https://localhost:8080/",
     "height": 34
    },
    "executionInfo": {
     "elapsed": 911,
     "status": "ok",
     "timestamp": 1599593542642,
     "user": {
      "displayName": "Henrique Frajacomo",
      "photoUrl": "https://lh3.googleusercontent.com/a-/AOh14GhQDFNhG11h9UJPe8Eg-KqmHhIL8k9af1i9FNc=s64",
      "userId": "15794806591433679473"
     },
     "user_tz": 180
    },
    "id": "NpsFw2Rvnxys",
    "outputId": "f6c68461-acd9-4319-a691-ee4664ee8be4"
   },
   "outputs": [
    {
     "data": {
      "text/plain": [
       "dict_values(['Adenina', 'Timina', 'Citosina', 'Guanina'])"
      ]
     },
     "execution_count": 154,
     "metadata": {
      "tags": []
     },
     "output_type": "execute_result"
    }
   ],
   "source": [
    "bases.values()"
   ]
  }
 ],
 "metadata": {
  "colab": {
   "name": "Introdução_Traduzida.ipynb",
   "provenance": []
  },
  "kernelspec": {
   "display_name": "Python 3 (ipykernel)",
   "language": "python",
   "name": "python3"
  },
  "language_info": {
   "codemirror_mode": {
    "name": "ipython",
    "version": 3
   },
   "file_extension": ".py",
   "mimetype": "text/x-python",
   "name": "python",
   "nbconvert_exporter": "python",
   "pygments_lexer": "ipython3",
   "version": "3.9.7"
  }
 },
 "nbformat": 4,
 "nbformat_minor": 1
}
